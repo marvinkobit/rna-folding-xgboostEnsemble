{
 "cells": [
  {
   "cell_type": "code",
   "execution_count": 1,
   "id": "e5e26545",
   "metadata": {
    "execution": {
     "iopub.execute_input": "2025-04-27T22:56:33.876260Z",
     "iopub.status.busy": "2025-04-27T22:56:33.875906Z",
     "iopub.status.idle": "2025-04-27T22:56:44.996352Z",
     "shell.execute_reply": "2025-04-27T22:56:44.995268Z"
    },
    "lines_to_next_cell": 2,
    "papermill": {
     "duration": 11.132876,
     "end_time": "2025-04-27T22:56:44.998045",
     "exception": false,
     "start_time": "2025-04-27T22:56:33.865169",
     "status": "completed"
    },
    "tags": []
   },
   "outputs": [
    {
     "name": "stdout",
     "output_type": "stream",
     "text": [
      "Checking whether there is an H2O instance running at http://localhost:54321..... not found.\n",
      "Attempting to start a local H2O server...\n",
      "  Java Version: openjdk version \"11.0.25\" 2024-10-15; OpenJDK Runtime Environment (build 11.0.25+9-post-Ubuntu-1ubuntu122.04); OpenJDK 64-Bit Server VM (build 11.0.25+9-post-Ubuntu-1ubuntu122.04, mixed mode, sharing)\n",
      "  Starting server from /usr/local/lib/python3.10/dist-packages/h2o/backend/bin/h2o.jar\n",
      "  Ice root: /tmp/tmpyws41njg\n",
      "  JVM stdout: /tmp/tmpyws41njg/h2o_unknownUser_started_from_python.out\n",
      "  JVM stderr: /tmp/tmpyws41njg/h2o_unknownUser_started_from_python.err\n",
      "  Server is running at http://127.0.0.1:54321\n",
      "Connecting to H2O server at http://127.0.0.1:54321 ... successful.\n",
      "Warning: Your H2O cluster version is (5 months and 25 days) old.  There may be a newer version available.\n",
      "Please download and install the latest version from: https://h2o-release.s3.amazonaws.com/h2o/latest_stable.html\n"
     ]
    },
    {
     "data": {
      "text/html": [
       "\n",
       "<style>\n",
       "\n",
       "#h2o-table-1.h2o-container {\n",
       "  overflow-x: auto;\n",
       "}\n",
       "#h2o-table-1 .h2o-table {\n",
       "  /* width: 100%; */\n",
       "  margin-top: 1em;\n",
       "  margin-bottom: 1em;\n",
       "}\n",
       "#h2o-table-1 .h2o-table caption {\n",
       "  white-space: nowrap;\n",
       "  caption-side: top;\n",
       "  text-align: left;\n",
       "  /* margin-left: 1em; */\n",
       "  margin: 0;\n",
       "  font-size: larger;\n",
       "}\n",
       "#h2o-table-1 .h2o-table thead {\n",
       "  white-space: nowrap; \n",
       "  position: sticky;\n",
       "  top: 0;\n",
       "  box-shadow: 0 -1px inset;\n",
       "}\n",
       "#h2o-table-1 .h2o-table tbody {\n",
       "  overflow: auto;\n",
       "}\n",
       "#h2o-table-1 .h2o-table th,\n",
       "#h2o-table-1 .h2o-table td {\n",
       "  text-align: right;\n",
       "  /* border: 1px solid; */\n",
       "}\n",
       "#h2o-table-1 .h2o-table tr:nth-child(even) {\n",
       "  /* background: #F5F5F5 */\n",
       "}\n",
       "\n",
       "</style>      \n",
       "<div id=\"h2o-table-1\" class=\"h2o-container\">\n",
       "  <table class=\"h2o-table\">\n",
       "    <caption></caption>\n",
       "    <thead></thead>\n",
       "    <tbody><tr><td>H2O_cluster_uptime:</td>\n",
       "<td>03 secs</td></tr>\n",
       "<tr><td>H2O_cluster_timezone:</td>\n",
       "<td>Etc/UTC</td></tr>\n",
       "<tr><td>H2O_data_parsing_timezone:</td>\n",
       "<td>UTC</td></tr>\n",
       "<tr><td>H2O_cluster_version:</td>\n",
       "<td>3.46.0.6</td></tr>\n",
       "<tr><td>H2O_cluster_version_age:</td>\n",
       "<td>5 months and 25 days</td></tr>\n",
       "<tr><td>H2O_cluster_name:</td>\n",
       "<td>H2O_from_python_unknownUser_v2v1t5</td></tr>\n",
       "<tr><td>H2O_cluster_total_nodes:</td>\n",
       "<td>1</td></tr>\n",
       "<tr><td>H2O_cluster_free_memory:</td>\n",
       "<td>7.250 Gb</td></tr>\n",
       "<tr><td>H2O_cluster_total_cores:</td>\n",
       "<td>4</td></tr>\n",
       "<tr><td>H2O_cluster_allowed_cores:</td>\n",
       "<td>4</td></tr>\n",
       "<tr><td>H2O_cluster_status:</td>\n",
       "<td>locked, healthy</td></tr>\n",
       "<tr><td>H2O_connection_url:</td>\n",
       "<td>http://127.0.0.1:54321</td></tr>\n",
       "<tr><td>H2O_connection_proxy:</td>\n",
       "<td>{\"http\": null, \"https\": null, \"colab_language_server\": \"/usr/colab/bin/language_service\"}</td></tr>\n",
       "<tr><td>H2O_internal_security:</td>\n",
       "<td>False</td></tr>\n",
       "<tr><td>Python_version:</td>\n",
       "<td>3.10.12 final</td></tr></tbody>\n",
       "  </table>\n",
       "</div>\n"
      ],
      "text/plain": [
       "--------------------------  -----------------------------------------------------------------------------------------\n",
       "H2O_cluster_uptime:         03 secs\n",
       "H2O_cluster_timezone:       Etc/UTC\n",
       "H2O_data_parsing_timezone:  UTC\n",
       "H2O_cluster_version:        3.46.0.6\n",
       "H2O_cluster_version_age:    5 months and 25 days\n",
       "H2O_cluster_name:           H2O_from_python_unknownUser_v2v1t5\n",
       "H2O_cluster_total_nodes:    1\n",
       "H2O_cluster_free_memory:    7.250 Gb\n",
       "H2O_cluster_total_cores:    4\n",
       "H2O_cluster_allowed_cores:  4\n",
       "H2O_cluster_status:         locked, healthy\n",
       "H2O_connection_url:         http://127.0.0.1:54321\n",
       "H2O_connection_proxy:       {\"http\": null, \"https\": null, \"colab_language_server\": \"/usr/colab/bin/language_service\"}\n",
       "H2O_internal_security:      False\n",
       "Python_version:             3.10.12 final\n",
       "--------------------------  -----------------------------------------------------------------------------------------"
      ]
     },
     "metadata": {},
     "output_type": "display_data"
    }
   ],
   "source": [
    "import pandas as pd\n",
    "import matplotlib.pyplot as plt\n",
    "import seaborn as sns\n",
    "import h2o\n",
    "h2o.init()"
   ]
  },
  {
   "cell_type": "markdown",
   "id": "00c35a67",
   "metadata": {
    "papermill": {
     "duration": 0.016229,
     "end_time": "2025-04-27T22:56:45.030585",
     "exception": false,
     "start_time": "2025-04-27T22:56:45.014356",
     "status": "completed"
    },
    "tags": []
   },
   "source": [
    "# 🔍 Exploratory Data Analysis (EDA)"
   ]
  },
  {
   "cell_type": "code",
   "execution_count": 2,
   "id": "bdc9a208",
   "metadata": {
    "execution": {
     "iopub.execute_input": "2025-04-27T22:56:45.063595Z",
     "iopub.status.busy": "2025-04-27T22:56:45.062894Z",
     "iopub.status.idle": "2025-04-27T22:56:45.487927Z",
     "shell.execute_reply": "2025-04-27T22:56:45.487152Z"
    },
    "papermill": {
     "duration": 0.443491,
     "end_time": "2025-04-27T22:56:45.489694",
     "exception": false,
     "start_time": "2025-04-27T22:56:45.046203",
     "status": "completed"
    },
    "tags": []
   },
   "outputs": [],
   "source": [
    "\n",
    "train_sequences = pd.read_csv('/kaggle/input/stanford-rna-3d-folding/train_sequences.csv')\n",
    "\n",
    "train_labels = pd.read_csv('/kaggle/input/stanford-rna-3d-folding/train_labels.csv')\n",
    "\n",
    "validation_sequences = pd.read_csv('/kaggle/input/stanford-rna-3d-folding/validation_sequences.csv')\n",
    "\n",
    "validation_labels = pd.read_csv('/kaggle/input/stanford-rna-3d-folding/validation_labels.csv')"
   ]
  },
  {
   "cell_type": "code",
   "execution_count": 3,
   "id": "f312b81f",
   "metadata": {
    "execution": {
     "iopub.execute_input": "2025-04-27T22:56:45.510075Z",
     "iopub.status.busy": "2025-04-27T22:56:45.509781Z",
     "iopub.status.idle": "2025-04-27T22:56:45.514746Z",
     "shell.execute_reply": "2025-04-27T22:56:45.513952Z"
    },
    "papermill": {
     "duration": 0.016701,
     "end_time": "2025-04-27T22:56:45.516150",
     "exception": false,
     "start_time": "2025-04-27T22:56:45.499449",
     "status": "completed"
    },
    "tags": []
   },
   "outputs": [
    {
     "data": {
      "text/plain": [
       "(844, 5)"
      ]
     },
     "execution_count": 3,
     "metadata": {},
     "output_type": "execute_result"
    }
   ],
   "source": [
    "train_sequences.shape"
   ]
  },
  {
   "cell_type": "markdown",
   "id": "bd2a25e4",
   "metadata": {
    "papermill": {
     "duration": 0.009318,
     "end_time": "2025-04-27T22:56:45.535353",
     "exception": false,
     "start_time": "2025-04-27T22:56:45.526035",
     "status": "completed"
    },
    "tags": []
   },
   "source": [
    "### train_sequences.csv"
   ]
  },
  {
   "cell_type": "code",
   "execution_count": 4,
   "id": "b06681b9",
   "metadata": {
    "execution": {
     "iopub.execute_input": "2025-04-27T22:56:45.556041Z",
     "iopub.status.busy": "2025-04-27T22:56:45.555715Z",
     "iopub.status.idle": "2025-04-27T22:56:45.584814Z",
     "shell.execute_reply": "2025-04-27T22:56:45.583797Z"
    },
    "papermill": {
     "duration": 0.041494,
     "end_time": "2025-04-27T22:56:45.586386",
     "exception": false,
     "start_time": "2025-04-27T22:56:45.544892",
     "status": "completed"
    },
    "tags": []
   },
   "outputs": [
    {
     "name": "stdout",
     "output_type": "stream",
     "text": [
      "train_sequences has 844 rows and 5 columns\n",
      "train_sequences has 5 NAs.\n"
     ]
    },
    {
     "data": {
      "text/html": [
       "<div>\n",
       "<style scoped>\n",
       "    .dataframe tbody tr th:only-of-type {\n",
       "        vertical-align: middle;\n",
       "    }\n",
       "\n",
       "    .dataframe tbody tr th {\n",
       "        vertical-align: top;\n",
       "    }\n",
       "\n",
       "    .dataframe thead th {\n",
       "        text-align: right;\n",
       "    }\n",
       "</style>\n",
       "<table border=\"1\" class=\"dataframe\">\n",
       "  <thead>\n",
       "    <tr style=\"text-align: right;\">\n",
       "      <th></th>\n",
       "      <th>target_id</th>\n",
       "      <th>sequence</th>\n",
       "      <th>temporal_cutoff</th>\n",
       "      <th>description</th>\n",
       "      <th>all_sequences</th>\n",
       "    </tr>\n",
       "  </thead>\n",
       "  <tbody>\n",
       "    <tr>\n",
       "      <th>0</th>\n",
       "      <td>1SCL_A</td>\n",
       "      <td>GGGUGCUCAGUACGAGAGGAACCGCACCC</td>\n",
       "      <td>1995-01-26</td>\n",
       "      <td>THE SARCIN-RICIN LOOP, A MODULAR RNA</td>\n",
       "      <td>&gt;1SCL_1|Chain A|RNA SARCIN-RICIN LOOP|Rattus n...</td>\n",
       "    </tr>\n",
       "    <tr>\n",
       "      <th>1</th>\n",
       "      <td>1RNK_A</td>\n",
       "      <td>GGCGCAGUGGGCUAGCGCCACUCAAAAGGCCCAU</td>\n",
       "      <td>1995-02-27</td>\n",
       "      <td>THE STRUCTURE OF AN RNA PSEUDOKNOT THAT CAUSES...</td>\n",
       "      <td>&gt;1RNK_1|Chain A|RNA PSEUDOKNOT|null\\nGGCGCAGUG...</td>\n",
       "    </tr>\n",
       "    <tr>\n",
       "      <th>2</th>\n",
       "      <td>1RHT_A</td>\n",
       "      <td>GGGACUGACGAUCACGCAGUCUAU</td>\n",
       "      <td>1995-06-03</td>\n",
       "      <td>24-MER RNA HAIRPIN COAT PROTEIN BINDING SITE F...</td>\n",
       "      <td>&gt;1RHT_1|Chain A|RNA (5'-R(P*GP*GP*GP*AP*CP*UP*...</td>\n",
       "    </tr>\n",
       "    <tr>\n",
       "      <th>3</th>\n",
       "      <td>1HLX_A</td>\n",
       "      <td>GGGAUAACUUCGGUUGUCCC</td>\n",
       "      <td>1995-09-15</td>\n",
       "      <td>P1 HELIX NUCLEIC ACIDS (DNA/RNA) RIBONUCLEIC ACID</td>\n",
       "      <td>&gt;1HLX_1|Chain A|RNA (5'-R(*GP*GP*GP*AP*UP*AP*A...</td>\n",
       "    </tr>\n",
       "    <tr>\n",
       "      <th>4</th>\n",
       "      <td>1HMH_E</td>\n",
       "      <td>GGCGACCCUGAUGAGGCCGAAAGGCCGAAACCGU</td>\n",
       "      <td>1995-12-07</td>\n",
       "      <td>THREE-DIMENSIONAL STRUCTURE OF A HAMMERHEAD RI...</td>\n",
       "      <td>&gt;1HMH_1|Chains A, C, E|HAMMERHEAD RIBOZYME-RNA...</td>\n",
       "    </tr>\n",
       "    <tr>\n",
       "      <th>5</th>\n",
       "      <td>1RNG_A</td>\n",
       "      <td>GGCGCUUGCGUC</td>\n",
       "      <td>1995-12-07</td>\n",
       "      <td>SOLUTION STRUCTURE OF THE CUUG HAIRPIN: A NOVE...</td>\n",
       "      <td>&gt;1RNG_1|Chain A|RNA (5'-R(*GP*GP*CP*GP*CP*UP*U...</td>\n",
       "    </tr>\n",
       "    <tr>\n",
       "      <th>6</th>\n",
       "      <td>1MME_D</td>\n",
       "      <td>GGCCGAAACUCGUAAGAGUCACCAC</td>\n",
       "      <td>1996-02-06</td>\n",
       "      <td>THE CRYSTAL STRUCTURE OF AN ALL-RNA HAMMERHEAD...</td>\n",
       "      <td>&gt;1MME_1|Chains A, C|RNA HAMMERHEAD RIBOZYME|\\n...</td>\n",
       "    </tr>\n",
       "    <tr>\n",
       "      <th>7</th>\n",
       "      <td>1KAJ_A</td>\n",
       "      <td>GGCGCAGUGGGCUAGCGCCACUCAAAAGCCCG</td>\n",
       "      <td>1996-07-11</td>\n",
       "      <td>CONFORMATION OF AN RNA PSEUDOKNOT FROM MOUSE M...</td>\n",
       "      <td>&gt;1KAJ_1|Chain A|RNA PSEUDOKNOT APK|\\nGGCGCAGUG...</td>\n",
       "    </tr>\n",
       "    <tr>\n",
       "      <th>8</th>\n",
       "      <td>1SLO_A</td>\n",
       "      <td>UUACCCAAGUUUGAGGUAA</td>\n",
       "      <td>1996-12-07</td>\n",
       "      <td>FIRST STEM LOOP OF THE SL1 RNA FROM CAENORHABD...</td>\n",
       "      <td>&gt;1SLO_1|Chain A|RNA (5'-R(*UP*UP*AP*CP*CP*CP*A...</td>\n",
       "    </tr>\n",
       "    <tr>\n",
       "      <th>9</th>\n",
       "      <td>1BIV_A</td>\n",
       "      <td>GGCUCGUGUAGCUCAUUAGCUCCGAGCC</td>\n",
       "      <td>1996-12-23</td>\n",
       "      <td>BOVINE IMMUNODEFICIENCY VIRUS TAT-TAR COMPLEX,...</td>\n",
       "      <td>&gt;1BIV_1|Chain A|TAR RNA|synthetic construct (3...</td>\n",
       "    </tr>\n",
       "    <tr>\n",
       "      <th>10</th>\n",
       "      <td>1ANR_A</td>\n",
       "      <td>GGCAGAUCUGAGCCUGGGAGCUCUCUGCC</td>\n",
       "      <td>1997-01-11</td>\n",
       "      <td>CIS-ACTING RNA REGULATORY ELEMENT (HIV-1 TAR),...</td>\n",
       "      <td>&gt;1ANR_1|Chain A|RNA REGULATORY ELEMENT TAR|nul...</td>\n",
       "    </tr>\n",
       "    <tr>\n",
       "      <th>11</th>\n",
       "      <td>1ZIG_A</td>\n",
       "      <td>GGGCGAGAGCCU</td>\n",
       "      <td>1997-03-12</td>\n",
       "      <td>GAGA RNA TETRALOOP, NMR, 10 STRUCTURES</td>\n",
       "      <td>&gt;1ZIG_1|Chain A|RNA (5'-R(*GP*GP*GP*CP*GP*AP*G...</td>\n",
       "    </tr>\n",
       "  </tbody>\n",
       "</table>\n",
       "</div>"
      ],
      "text/plain": [
       "   target_id                            sequence temporal_cutoff  \\\n",
       "0     1SCL_A       GGGUGCUCAGUACGAGAGGAACCGCACCC      1995-01-26   \n",
       "1     1RNK_A  GGCGCAGUGGGCUAGCGCCACUCAAAAGGCCCAU      1995-02-27   \n",
       "2     1RHT_A            GGGACUGACGAUCACGCAGUCUAU      1995-06-03   \n",
       "3     1HLX_A                GGGAUAACUUCGGUUGUCCC      1995-09-15   \n",
       "4     1HMH_E  GGCGACCCUGAUGAGGCCGAAAGGCCGAAACCGU      1995-12-07   \n",
       "5     1RNG_A                        GGCGCUUGCGUC      1995-12-07   \n",
       "6     1MME_D           GGCCGAAACUCGUAAGAGUCACCAC      1996-02-06   \n",
       "7     1KAJ_A    GGCGCAGUGGGCUAGCGCCACUCAAAAGCCCG      1996-07-11   \n",
       "8     1SLO_A                 UUACCCAAGUUUGAGGUAA      1996-12-07   \n",
       "9     1BIV_A        GGCUCGUGUAGCUCAUUAGCUCCGAGCC      1996-12-23   \n",
       "10    1ANR_A       GGCAGAUCUGAGCCUGGGAGCUCUCUGCC      1997-01-11   \n",
       "11    1ZIG_A                        GGGCGAGAGCCU      1997-03-12   \n",
       "\n",
       "                                          description  \\\n",
       "0                THE SARCIN-RICIN LOOP, A MODULAR RNA   \n",
       "1   THE STRUCTURE OF AN RNA PSEUDOKNOT THAT CAUSES...   \n",
       "2   24-MER RNA HAIRPIN COAT PROTEIN BINDING SITE F...   \n",
       "3   P1 HELIX NUCLEIC ACIDS (DNA/RNA) RIBONUCLEIC ACID   \n",
       "4   THREE-DIMENSIONAL STRUCTURE OF A HAMMERHEAD RI...   \n",
       "5   SOLUTION STRUCTURE OF THE CUUG HAIRPIN: A NOVE...   \n",
       "6   THE CRYSTAL STRUCTURE OF AN ALL-RNA HAMMERHEAD...   \n",
       "7   CONFORMATION OF AN RNA PSEUDOKNOT FROM MOUSE M...   \n",
       "8   FIRST STEM LOOP OF THE SL1 RNA FROM CAENORHABD...   \n",
       "9   BOVINE IMMUNODEFICIENCY VIRUS TAT-TAR COMPLEX,...   \n",
       "10  CIS-ACTING RNA REGULATORY ELEMENT (HIV-1 TAR),...   \n",
       "11             GAGA RNA TETRALOOP, NMR, 10 STRUCTURES   \n",
       "\n",
       "                                        all_sequences  \n",
       "0   >1SCL_1|Chain A|RNA SARCIN-RICIN LOOP|Rattus n...  \n",
       "1   >1RNK_1|Chain A|RNA PSEUDOKNOT|null\\nGGCGCAGUG...  \n",
       "2   >1RHT_1|Chain A|RNA (5'-R(P*GP*GP*GP*AP*CP*UP*...  \n",
       "3   >1HLX_1|Chain A|RNA (5'-R(*GP*GP*GP*AP*UP*AP*A...  \n",
       "4   >1HMH_1|Chains A, C, E|HAMMERHEAD RIBOZYME-RNA...  \n",
       "5   >1RNG_1|Chain A|RNA (5'-R(*GP*GP*CP*GP*CP*UP*U...  \n",
       "6   >1MME_1|Chains A, C|RNA HAMMERHEAD RIBOZYME|\\n...  \n",
       "7   >1KAJ_1|Chain A|RNA PSEUDOKNOT APK|\\nGGCGCAGUG...  \n",
       "8   >1SLO_1|Chain A|RNA (5'-R(*UP*UP*AP*CP*CP*CP*A...  \n",
       "9   >1BIV_1|Chain A|TAR RNA|synthetic construct (3...  \n",
       "10  >1ANR_1|Chain A|RNA REGULATORY ELEMENT TAR|nul...  \n",
       "11  >1ZIG_1|Chain A|RNA (5'-R(*GP*GP*GP*CP*GP*AP*G...  "
      ]
     },
     "execution_count": 4,
     "metadata": {},
     "output_type": "execute_result"
    }
   ],
   "source": [
    "\n",
    "print(f'train_sequences has {train_sequences.shape[0]} rows and {train_sequences.shape[1]} columns')\n",
    "\n",
    "print(f'train_sequences has {train_sequences.isna().sum().sum()} NAs.')\n",
    "\n",
    "train_sequences.head(12)"
   ]
  },
  {
   "cell_type": "markdown",
   "id": "cdf9bc6a",
   "metadata": {
    "papermill": {
     "duration": 0.009385,
     "end_time": "2025-04-27T22:56:45.605648",
     "exception": false,
     "start_time": "2025-04-27T22:56:45.596263",
     "status": "completed"
    },
    "tags": []
   },
   "source": [
    "# sequence column...specifically the length of the sequences."
   ]
  },
  {
   "cell_type": "code",
   "execution_count": 5,
   "id": "b2fe69ff",
   "metadata": {
    "execution": {
     "iopub.execute_input": "2025-04-27T22:56:45.626420Z",
     "iopub.status.busy": "2025-04-27T22:56:45.626060Z",
     "iopub.status.idle": "2025-04-27T22:56:45.874741Z",
     "shell.execute_reply": "2025-04-27T22:56:45.873775Z"
    },
    "papermill": {
     "duration": 0.260493,
     "end_time": "2025-04-27T22:56:45.876059",
     "exception": false,
     "start_time": "2025-04-27T22:56:45.615566",
     "status": "completed"
    },
    "tags": []
   },
   "outputs": [
    {
     "data": {
      "image/png": "[encoded data removed]",
      "text/plain": [
       "<Figure size 1500x800 with 1 Axes>"
      ]
     },
     "metadata": {},
     "output_type": "display_data"
    }
   ],
   "source": [
    "\n",
    "plt.figure(figsize=(15, 8))\n",
    "\n",
    "train_sequences['length'] = train_sequences['sequence'].str.len()\n",
    "\n",
    "sns.boxplot(x='length', data=train_sequences)\n",
    "plt.xlabel(\"Sequence length\")\n",
    "plt.ylabel(\"Sequence\")\n",
    "plt.title(\"Boxplot of sequence length values (with outliers)\")\n",
    "plt.grid(True)\n",
    "plt.show()"
   ]
  },
  {
   "cell_type": "code",
   "execution_count": 6,
   "id": "e290cfc9",
   "metadata": {
    "execution": {
     "iopub.execute_input": "2025-04-27T22:56:45.897764Z",
     "iopub.status.busy": "2025-04-27T22:56:45.897463Z",
     "iopub.status.idle": "2025-04-27T22:56:46.073128Z",
     "shell.execute_reply": "2025-04-27T22:56:46.072210Z"
    },
    "papermill": {
     "duration": 0.189017,
     "end_time": "2025-04-27T22:56:46.075225",
     "exception": false,
     "start_time": "2025-04-27T22:56:45.886208",
     "status": "completed"
    },
    "tags": []
   },
   "outputs": [
    {
     "data": {
      "image/png": "[encoded data removed]",
      "text/plain": [
       "<Figure size 1500x800 with 1 Axes>"
      ]
     },
     "metadata": {},
     "output_type": "display_data"
    }
   ],
   "source": [
    "# Set the size of the canvas\n",
    "plt.figure(figsize=(15, 8))\n",
    "\n",
    "# Calculate sequence length and create a new DataFrame\n",
    "train_sequences['length'] = train_sequences['sequence'].str.len()\n",
    "\n",
    "# Draw a boxplot without showing outliers\n",
    "sns.boxplot(x='length', data=train_sequences, showfliers=False)\n",
    "plt.xlabel(\"Sequence length\")\n",
    "plt.ylabel(\"Sequence\")\n",
    "plt.title(\"Boxplot of sequence length values (without outliers)\")\n",
    "plt.grid(True)\n",
    "plt.show()"
   ]
  },
  {
   "cell_type": "markdown",
   "id": "6334ba5d",
   "metadata": {
    "papermill": {
     "duration": 0.010831,
     "end_time": "2025-04-27T22:56:46.098550",
     "exception": false,
     "start_time": "2025-04-27T22:56:46.087719",
     "status": "completed"
    },
    "tags": []
   },
   "source": [
    "### Look at the temporal_cutoff column to see how the length of published sequences has evolved over time"
   ]
  },
  {
   "cell_type": "code",
   "execution_count": 7,
   "id": "b659724b",
   "metadata": {
    "execution": {
     "iopub.execute_input": "2025-04-27T22:56:46.123655Z",
     "iopub.status.busy": "2025-04-27T22:56:46.123195Z",
     "iopub.status.idle": "2025-04-27T22:56:46.609346Z",
     "shell.execute_reply": "2025-04-27T22:56:46.608287Z"
    },
    "papermill": {
     "duration": 0.501226,
     "end_time": "2025-04-27T22:56:46.610949",
     "exception": false,
     "start_time": "2025-04-27T22:56:46.109723",
     "status": "completed"
    },
    "tags": []
   },
   "outputs": [
    {
     "data": {
      "image/png": "[encoded data removed]",
      "text/plain": [
       "<Figure size 1500x800 with 1 Axes>"
      ]
     },
     "metadata": {},
     "output_type": "display_data"
    }
   ],
   "source": [
    "# Create new columns 'cutoff_year' and 'sequence_length'\n",
    "train_sequences['cutoff_year'] = pd.to_datetime(train_sequences['temporal_cutoff']).dt.year\n",
    "train_sequences['sequence_length'] = train_sequences['sequence'].str.len()\n",
    "\n",
    "# Calculate the average sequence length per year\n",
    "avg_sequence_length = (\n",
    "    train_sequences\n",
    "    .groupby('cutoff_year')\n",
    "    .agg(avg_sequence_length=('sequence_length', 'mean'))\n",
    "    .reset_index()\n",
    ")\n",
    "\n",
    "# Set the size of the canvas\n",
    "plt.figure(figsize=(15, 8))\n",
    "\n",
    "# Draw the actual sequence length and polynomial smoothing line\n",
    "sns.regplot(x='cutoff_year', y='avg_sequence_length', data=avg_sequence_length, \n",
    "            order=3, ci=None, label='Smoothed Line', color='blue')\n",
    "plt.plot(avg_sequence_length['cutoff_year'], avg_sequence_length['avg_sequence_length'], \n",
    "         color='black', label='Actual Sequence Length')\n",
    "\n",
    "# Add labels and title\n",
    "plt.xlabel(\"Temporal Cutoff Year\")\n",
    "plt.ylabel(\"Average Sequence Length discovered\")\n",
    "plt.title(\"Average length of published sequence over time\")\n",
    "plt.legend()\n",
    "plt.grid(True)\n",
    "plt.show()"
   ]
  },
  {
   "cell_type": "markdown",
   "id": "39932cc9",
   "metadata": {
    "papermill": {
     "duration": 0.013109,
     "end_time": "2025-04-27T22:56:46.637686",
     "exception": false,
     "start_time": "2025-04-27T22:56:46.624577",
     "status": "completed"
    },
    "tags": []
   },
   "source": [
    "### Focussing on the target_id...from the competition material:\n",
    ">\"In train_sequences.csv, this is formatted as pdb_id_chain_id, where pdb_id is the id of the entry in the Protein Data Bank and chain_id is the chain id of the monomer in the pdb file"
   ]
  },
  {
   "cell_type": "markdown",
   "id": "fa1e4f8c",
   "metadata": {
    "papermill": {
     "duration": 0.012295,
     "end_time": "2025-04-27T22:56:46.662759",
     "exception": false,
     "start_time": "2025-04-27T22:56:46.650464",
     "status": "completed"
    },
    "tags": []
   },
   "source": [
    "#### Let's first look at how many unique pdb_id's and chain_id's there are in the train_sequences"
   ]
  },
  {
   "cell_type": "code",
   "execution_count": 8,
   "id": "2df89b3d",
   "metadata": {
    "execution": {
     "iopub.execute_input": "2025-04-27T22:56:46.688987Z",
     "iopub.status.busy": "2025-04-27T22:56:46.688647Z",
     "iopub.status.idle": "2025-04-27T22:56:46.698858Z",
     "shell.execute_reply": "2025-04-27T22:56:46.697802Z"
    },
    "papermill": {
     "duration": 0.025251,
     "end_time": "2025-04-27T22:56:46.700487",
     "exception": false,
     "start_time": "2025-04-27T22:56:46.675236",
     "status": "completed"
    },
    "tags": []
   },
   "outputs": [
    {
     "name": "stdout",
     "output_type": "stream",
     "text": [
      "There are 735 unique pdb_id's in the dataset.\n",
      "There are 99 unique chain_id's in the dataset.\n"
     ]
    }
   ],
   "source": [
    "# Import necessary libraries\n",
    "import pandas as pd\n",
    "\n",
    "# Assuming the train_sequences DataFrame contains the 'target_id' column\n",
    "# Extract pdb_id and chain_id\n",
    "train_sequences[['pdb_id', 'chain_id']] = train_sequences['target_id'].str.split('_', expand=True)\n",
    "\n",
    "# Calculate the number of unique pdb_id\n",
    "pdb_id_count = train_sequences['pdb_id'].nunique()\n",
    "\n",
    "# Calculate the number of unique chain_id\n",
    "chain_id_count = train_sequences['chain_id'].nunique()\n",
    "\n",
    "# Print the results\n",
    "print(f\"There are {pdb_id_count} unique pdb_id's in the dataset.\")\n",
    "print(f\"There are {chain_id_count} unique chain_id's in the dataset.\")"
   ]
  },
  {
   "cell_type": "markdown",
   "id": "b6e934f8",
   "metadata": {
    "papermill": {
     "duration": 0.012122,
     "end_time": "2025-04-27T22:56:46.725288",
     "exception": false,
     "start_time": "2025-04-27T22:56:46.713166",
     "status": "completed"
    },
    "tags": []
   },
   "source": [
    "### Now let's look at which pdb_id's are repeated in the train_sequences"
   ]
  },
  {
   "cell_type": "code",
   "execution_count": 9,
   "id": "262b34a5",
   "metadata": {
    "execution": {
     "iopub.execute_input": "2025-04-27T22:56:46.752041Z",
     "iopub.status.busy": "2025-04-27T22:56:46.751737Z",
     "iopub.status.idle": "2025-04-27T22:56:46.774219Z",
     "shell.execute_reply": "2025-04-27T22:56:46.773408Z"
    },
    "papermill": {
     "duration": 0.037752,
     "end_time": "2025-04-27T22:56:46.775665",
     "exception": false,
     "start_time": "2025-04-27T22:56:46.737913",
     "status": "completed"
    },
    "tags": []
   },
   "outputs": [
    {
     "name": "stdout",
     "output_type": "stream",
     "text": [
      "In total, there are 60 pdb_id's that are repeated in train_sequences.\n",
      "Top 10 most repeated pdb_id's:\n"
     ]
    },
    {
     "data": {
      "text/html": [
       "<div>\n",
       "<style scoped>\n",
       "    .dataframe tbody tr th:only-of-type {\n",
       "        vertical-align: middle;\n",
       "    }\n",
       "\n",
       "    .dataframe tbody tr th {\n",
       "        vertical-align: top;\n",
       "    }\n",
       "\n",
       "    .dataframe thead th {\n",
       "        text-align: right;\n",
       "    }\n",
       "</style>\n",
       "<table border=\"1\" class=\"dataframe\">\n",
       "  <thead>\n",
       "    <tr style=\"text-align: right;\">\n",
       "      <th></th>\n",
       "      <th>pdb_id</th>\n",
       "      <th>total</th>\n",
       "    </tr>\n",
       "  </thead>\n",
       "  <tbody>\n",
       "    <tr>\n",
       "      <th>406</th>\n",
       "      <td>4V5Z</td>\n",
       "      <td>11</td>\n",
       "    </tr>\n",
       "    <tr>\n",
       "      <th>325</th>\n",
       "      <td>2OM7</td>\n",
       "      <td>7</td>\n",
       "    </tr>\n",
       "    <tr>\n",
       "      <th>331</th>\n",
       "      <td>2R1G</td>\n",
       "      <td>6</td>\n",
       "    </tr>\n",
       "    <tr>\n",
       "      <th>163</th>\n",
       "      <td>1ZC8</td>\n",
       "      <td>6</td>\n",
       "    </tr>\n",
       "    <tr>\n",
       "      <th>410</th>\n",
       "      <td>4V6W</td>\n",
       "      <td>5</td>\n",
       "    </tr>\n",
       "    <tr>\n",
       "      <th>411</th>\n",
       "      <td>4V6X</td>\n",
       "      <td>5</td>\n",
       "    </tr>\n",
       "    <tr>\n",
       "      <th>412</th>\n",
       "      <td>4V7E</td>\n",
       "      <td>5</td>\n",
       "    </tr>\n",
       "    <tr>\n",
       "      <th>549</th>\n",
       "      <td>6ZVK</td>\n",
       "      <td>5</td>\n",
       "    </tr>\n",
       "    <tr>\n",
       "      <th>351</th>\n",
       "      <td>3DEG</td>\n",
       "      <td>5</td>\n",
       "    </tr>\n",
       "    <tr>\n",
       "      <th>320</th>\n",
       "      <td>2NR0</td>\n",
       "      <td>4</td>\n",
       "    </tr>\n",
       "  </tbody>\n",
       "</table>\n",
       "</div>"
      ],
      "text/plain": [
       "    pdb_id  total\n",
       "406   4V5Z     11\n",
       "325   2OM7      7\n",
       "331   2R1G      6\n",
       "163   1ZC8      6\n",
       "410   4V6W      5\n",
       "411   4V6X      5\n",
       "412   4V7E      5\n",
       "549   6ZVK      5\n",
       "351   3DEG      5\n",
       "320   2NR0      4"
      ]
     },
     "execution_count": 9,
     "metadata": {},
     "output_type": "execute_result"
    }
   ],
   "source": [
    "# Import necessary libraries\n",
    "import pandas as pd\n",
    "\n",
    "# Assuming the train_sequences DataFrame contains the 'target_id' column\n",
    "# Extract pdb_id and chain_id\n",
    "train_sequences[['pdb_id', 'chain_id']] = train_sequences['target_id'].str.split('_', expand=True)\n",
    "\n",
    "# Calculate the total number of each pdb_id and filter out repeated pdb_id\n",
    "repeated_pdb_ids = (\n",
    "    train_sequences\n",
    "    .groupby('pdb_id')\n",
    "    .size()\n",
    "    .reset_index(name='total')\n",
    "    .query('total > 1')\n",
    "    .sort_values(by='total', ascending=False)\n",
    ")\n",
    "\n",
    "# Get the top 10 repeated pdb_id\n",
    "top_repeated_pdb_ids = repeated_pdb_ids.head(10)\n",
    "\n",
    "# Print the results\n",
    "print(\"In total, there are\", repeated_pdb_ids.shape[0], \"pdb_id's that are repeated in train_sequences.\")\n",
    "print(\"Top 10 most repeated pdb_id's:\")\n",
    "top_repeated_pdb_ids# In total, there are 60 pdb_id's that are repeated in train_sequences, with the top 10 most repeated shown below"
   ]
  },
  {
   "cell_type": "code",
   "execution_count": 10,
   "id": "75912369",
   "metadata": {
    "execution": {
     "iopub.execute_input": "2025-04-27T22:56:46.803757Z",
     "iopub.status.busy": "2025-04-27T22:56:46.803441Z",
     "iopub.status.idle": "2025-04-27T22:56:46.818741Z",
     "shell.execute_reply": "2025-04-27T22:56:46.817922Z"
    },
    "papermill": {
     "duration": 0.030945,
     "end_time": "2025-04-27T22:56:46.820194",
     "exception": false,
     "start_time": "2025-04-27T22:56:46.789249",
     "status": "completed"
    },
    "tags": []
   },
   "outputs": [
    {
     "data": {
      "text/html": [
       "<div>\n",
       "<style scoped>\n",
       "    .dataframe tbody tr th:only-of-type {\n",
       "        vertical-align: middle;\n",
       "    }\n",
       "\n",
       "    .dataframe tbody tr th {\n",
       "        vertical-align: top;\n",
       "    }\n",
       "\n",
       "    .dataframe thead th {\n",
       "        text-align: right;\n",
       "    }\n",
       "</style>\n",
       "<table border=\"1\" class=\"dataframe\">\n",
       "  <thead>\n",
       "    <tr style=\"text-align: right;\">\n",
       "      <th></th>\n",
       "      <th>target_id</th>\n",
       "      <th>sequence</th>\n",
       "      <th>temporal_cutoff</th>\n",
       "      <th>description</th>\n",
       "      <th>all_sequences</th>\n",
       "      <th>length</th>\n",
       "      <th>cutoff_year</th>\n",
       "      <th>sequence_length</th>\n",
       "      <th>pdb_id</th>\n",
       "      <th>chain_id</th>\n",
       "    </tr>\n",
       "  </thead>\n",
       "  <tbody>\n",
       "    <tr>\n",
       "      <th>421</th>\n",
       "      <td>4V5Z_BP</td>\n",
       "      <td>GAGCCCGAGGGGCUC</td>\n",
       "      <td>2014-07-09</td>\n",
       "      <td>Structure of a mammalian 80S ribosome obtained...</td>\n",
       "      <td>&gt;4V5Z_1|Chain A[auth AA]|18S Ribosomal RNA|Can...</td>\n",
       "      <td>15</td>\n",
       "      <td>2014</td>\n",
       "      <td>15</td>\n",
       "      <td>4V5Z</td>\n",
       "      <td>BP</td>\n",
       "    </tr>\n",
       "    <tr>\n",
       "      <th>438</th>\n",
       "      <td>4V5Z_BA</td>\n",
       "      <td>GCCCCGGGUUCCUCCCGGGGC</td>\n",
       "      <td>2014-07-09</td>\n",
       "      <td>Structure of a mammalian 80S ribosome obtained...</td>\n",
       "      <td>&gt;4V5Z_1|Chain A[auth AA]|18S Ribosomal RNA|Can...</td>\n",
       "      <td>21</td>\n",
       "      <td>2014</td>\n",
       "      <td>21</td>\n",
       "      <td>4V5Z</td>\n",
       "      <td>BA</td>\n",
       "    </tr>\n",
       "    <tr>\n",
       "      <th>440</th>\n",
       "      <td>4V5Z_BH</td>\n",
       "      <td>CCCGGCUCGCUGGCGUGGAGCCGGG</td>\n",
       "      <td>2014-07-09</td>\n",
       "      <td>Structure of a mammalian 80S ribosome obtained...</td>\n",
       "      <td>&gt;4V5Z_1|Chain A[auth AA]|18S Ribosomal RNA|Can...</td>\n",
       "      <td>25</td>\n",
       "      <td>2014</td>\n",
       "      <td>25</td>\n",
       "      <td>4V5Z</td>\n",
       "      <td>BH</td>\n",
       "    </tr>\n",
       "    <tr>\n",
       "      <th>443</th>\n",
       "      <td>4V5Z_BL</td>\n",
       "      <td>UGGGCGCCGCGAGGCGUCCA</td>\n",
       "      <td>2014-07-09</td>\n",
       "      <td>Structure of a mammalian 80S ribosome obtained...</td>\n",
       "      <td>&gt;4V5Z_1|Chain A[auth AA]|18S Ribosomal RNA|Can...</td>\n",
       "      <td>20</td>\n",
       "      <td>2014</td>\n",
       "      <td>20</td>\n",
       "      <td>4V5Z</td>\n",
       "      <td>BL</td>\n",
       "    </tr>\n",
       "    <tr>\n",
       "      <th>447</th>\n",
       "      <td>4V5Z_BC</td>\n",
       "      <td>CGCCCCGCGGCGGGGCG</td>\n",
       "      <td>2014-07-09</td>\n",
       "      <td>Structure of a mammalian 80S ribosome obtained...</td>\n",
       "      <td>&gt;4V5Z_1|Chain A[auth AA]|18S Ribosomal RNA|Can...</td>\n",
       "      <td>17</td>\n",
       "      <td>2014</td>\n",
       "      <td>17</td>\n",
       "      <td>4V5Z</td>\n",
       "      <td>BC</td>\n",
       "    </tr>\n",
       "    <tr>\n",
       "      <th>452</th>\n",
       "      <td>4V5Z_BK</td>\n",
       "      <td>GACGGGCGAUGGCCUCCGUUGCCCUC</td>\n",
       "      <td>2014-07-09</td>\n",
       "      <td>Structure of a mammalian 80S ribosome obtained...</td>\n",
       "      <td>&gt;4V5Z_1|Chain A[auth AA]|18S Ribosomal RNA|Can...</td>\n",
       "      <td>26</td>\n",
       "      <td>2014</td>\n",
       "      <td>26</td>\n",
       "      <td>4V5Z</td>\n",
       "      <td>BK</td>\n",
       "    </tr>\n",
       "    <tr>\n",
       "      <th>453</th>\n",
       "      <td>4V5Z_AH</td>\n",
       "      <td>GGAACCCGGGUGAAAGCCUGGGGUGCCCCGCCCGGGGAGCC</td>\n",
       "      <td>2014-07-09</td>\n",
       "      <td>Structure of a mammalian 80S ribosome obtained...</td>\n",
       "      <td>&gt;4V5Z_1|Chain A[auth AA]|18S Ribosomal RNA|Can...</td>\n",
       "      <td>41</td>\n",
       "      <td>2014</td>\n",
       "      <td>41</td>\n",
       "      <td>4V5Z</td>\n",
       "      <td>AH</td>\n",
       "    </tr>\n",
       "    <tr>\n",
       "      <th>456</th>\n",
       "      <td>4V5Z_BU</td>\n",
       "      <td>GGUCGUCCCUCCGACC</td>\n",
       "      <td>2014-07-09</td>\n",
       "      <td>Structure of a mammalian 80S ribosome obtained...</td>\n",
       "      <td>&gt;4V5Z_1|Chain A[auth AA]|18S Ribosomal RNA|Can...</td>\n",
       "      <td>16</td>\n",
       "      <td>2014</td>\n",
       "      <td>16</td>\n",
       "      <td>4V5Z</td>\n",
       "      <td>BU</td>\n",
       "    </tr>\n",
       "    <tr>\n",
       "      <th>459</th>\n",
       "      <td>4V5Z_BQ</td>\n",
       "      <td>GCGUCCGCCCGCCCCGGCGCGGGCGGGCGC</td>\n",
       "      <td>2014-07-09</td>\n",
       "      <td>Structure of a mammalian 80S ribosome obtained...</td>\n",
       "      <td>&gt;4V5Z_1|Chain A[auth AA]|18S Ribosomal RNA|Can...</td>\n",
       "      <td>30</td>\n",
       "      <td>2014</td>\n",
       "      <td>30</td>\n",
       "      <td>4V5Z</td>\n",
       "      <td>BQ</td>\n",
       "    </tr>\n",
       "    <tr>\n",
       "      <th>460</th>\n",
       "      <td>4V5Z_AF</td>\n",
       "      <td>UUACGCGCCAGCGGUUCGGCCGGGCCCCCAA</td>\n",
       "      <td>2014-07-09</td>\n",
       "      <td>Structure of a mammalian 80S ribosome obtained...</td>\n",
       "      <td>&gt;4V5Z_1|Chain A[auth AA]|18S Ribosomal RNA|Can...</td>\n",
       "      <td>31</td>\n",
       "      <td>2014</td>\n",
       "      <td>31</td>\n",
       "      <td>4V5Z</td>\n",
       "      <td>AF</td>\n",
       "    </tr>\n",
       "    <tr>\n",
       "      <th>461</th>\n",
       "      <td>4V5Z_BM</td>\n",
       "      <td>CGGCGCCUCAUACGCGACG</td>\n",
       "      <td>2014-07-09</td>\n",
       "      <td>Structure of a mammalian 80S ribosome obtained...</td>\n",
       "      <td>&gt;4V5Z_1|Chain A[auth AA]|18S Ribosomal RNA|Can...</td>\n",
       "      <td>19</td>\n",
       "      <td>2014</td>\n",
       "      <td>19</td>\n",
       "      <td>4V5Z</td>\n",
       "      <td>BM</td>\n",
       "    </tr>\n",
       "  </tbody>\n",
       "</table>\n",
       "</div>"
      ],
      "text/plain": [
       "    target_id                                   sequence temporal_cutoff  \\\n",
       "421   4V5Z_BP                            GAGCCCGAGGGGCUC      2014-07-09   \n",
       "438   4V5Z_BA                      GCCCCGGGUUCCUCCCGGGGC      2014-07-09   \n",
       "440   4V5Z_BH                  CCCGGCUCGCUGGCGUGGAGCCGGG      2014-07-09   \n",
       "443   4V5Z_BL                       UGGGCGCCGCGAGGCGUCCA      2014-07-09   \n",
       "447   4V5Z_BC                          CGCCCCGCGGCGGGGCG      2014-07-09   \n",
       "452   4V5Z_BK                 GACGGGCGAUGGCCUCCGUUGCCCUC      2014-07-09   \n",
       "453   4V5Z_AH  GGAACCCGGGUGAAAGCCUGGGGUGCCCCGCCCGGGGAGCC      2014-07-09   \n",
       "456   4V5Z_BU                           GGUCGUCCCUCCGACC      2014-07-09   \n",
       "459   4V5Z_BQ             GCGUCCGCCCGCCCCGGCGCGGGCGGGCGC      2014-07-09   \n",
       "460   4V5Z_AF            UUACGCGCCAGCGGUUCGGCCGGGCCCCCAA      2014-07-09   \n",
       "461   4V5Z_BM                        CGGCGCCUCAUACGCGACG      2014-07-09   \n",
       "\n",
       "                                           description  \\\n",
       "421  Structure of a mammalian 80S ribosome obtained...   \n",
       "438  Structure of a mammalian 80S ribosome obtained...   \n",
       "440  Structure of a mammalian 80S ribosome obtained...   \n",
       "443  Structure of a mammalian 80S ribosome obtained...   \n",
       "447  Structure of a mammalian 80S ribosome obtained...   \n",
       "452  Structure of a mammalian 80S ribosome obtained...   \n",
       "453  Structure of a mammalian 80S ribosome obtained...   \n",
       "456  Structure of a mammalian 80S ribosome obtained...   \n",
       "459  Structure of a mammalian 80S ribosome obtained...   \n",
       "460  Structure of a mammalian 80S ribosome obtained...   \n",
       "461  Structure of a mammalian 80S ribosome obtained...   \n",
       "\n",
       "                                         all_sequences  length  cutoff_year  \\\n",
       "421  >4V5Z_1|Chain A[auth AA]|18S Ribosomal RNA|Can...      15         2014   \n",
       "438  >4V5Z_1|Chain A[auth AA]|18S Ribosomal RNA|Can...      21         2014   \n",
       "440  >4V5Z_1|Chain A[auth AA]|18S Ribosomal RNA|Can...      25         2014   \n",
       "443  >4V5Z_1|Chain A[auth AA]|18S Ribosomal RNA|Can...      20         2014   \n",
       "447  >4V5Z_1|Chain A[auth AA]|18S Ribosomal RNA|Can...      17         2014   \n",
       "452  >4V5Z_1|Chain A[auth AA]|18S Ribosomal RNA|Can...      26         2014   \n",
       "453  >4V5Z_1|Chain A[auth AA]|18S Ribosomal RNA|Can...      41         2014   \n",
       "456  >4V5Z_1|Chain A[auth AA]|18S Ribosomal RNA|Can...      16         2014   \n",
       "459  >4V5Z_1|Chain A[auth AA]|18S Ribosomal RNA|Can...      30         2014   \n",
       "460  >4V5Z_1|Chain A[auth AA]|18S Ribosomal RNA|Can...      31         2014   \n",
       "461  >4V5Z_1|Chain A[auth AA]|18S Ribosomal RNA|Can...      19         2014   \n",
       "\n",
       "     sequence_length pdb_id chain_id  \n",
       "421               15   4V5Z       BP  \n",
       "438               21   4V5Z       BA  \n",
       "440               25   4V5Z       BH  \n",
       "443               20   4V5Z       BL  \n",
       "447               17   4V5Z       BC  \n",
       "452               26   4V5Z       BK  \n",
       "453               41   4V5Z       AH  \n",
       "456               16   4V5Z       BU  \n",
       "459               30   4V5Z       BQ  \n",
       "460               31   4V5Z       AF  \n",
       "461               19   4V5Z       BM  "
      ]
     },
     "execution_count": 10,
     "metadata": {},
     "output_type": "execute_result"
    }
   ],
   "source": [
    "train_sequences[train_sequences['pdb_id']=='4V5Z']"
   ]
  },
  {
   "cell_type": "markdown",
   "id": "c2135e90",
   "metadata": {
    "papermill": {
     "duration": 0.013182,
     "end_time": "2025-04-27T22:56:46.846994",
     "exception": false,
     "start_time": "2025-04-27T22:56:46.833812",
     "status": "completed"
    },
    "tags": []
   },
   "source": [
    "### train_labels.csv"
   ]
  },
  {
   "cell_type": "code",
   "execution_count": 11,
   "id": "3c125af0",
   "metadata": {
    "execution": {
     "iopub.execute_input": "2025-04-27T22:56:46.874064Z",
     "iopub.status.busy": "2025-04-27T22:56:46.873755Z",
     "iopub.status.idle": "2025-04-27T22:56:46.900169Z",
     "shell.execute_reply": "2025-04-27T22:56:46.899073Z"
    },
    "papermill": {
     "duration": 0.041776,
     "end_time": "2025-04-27T22:56:46.901746",
     "exception": false,
     "start_time": "2025-04-27T22:56:46.859970",
     "status": "completed"
    },
    "tags": []
   },
   "outputs": [
    {
     "name": "stdout",
     "output_type": "stream",
     "text": [
      "train_labels has 137095 rows and 6 columns.\n",
      "train_labels has 18435 NAs.\n"
     ]
    },
    {
     "data": {
      "text/html": [
       "<div>\n",
       "<style scoped>\n",
       "    .dataframe tbody tr th:only-of-type {\n",
       "        vertical-align: middle;\n",
       "    }\n",
       "\n",
       "    .dataframe tbody tr th {\n",
       "        vertical-align: top;\n",
       "    }\n",
       "\n",
       "    .dataframe thead th {\n",
       "        text-align: right;\n",
       "    }\n",
       "</style>\n",
       "<table border=\"1\" class=\"dataframe\">\n",
       "  <thead>\n",
       "    <tr style=\"text-align: right;\">\n",
       "      <th></th>\n",
       "      <th>ID</th>\n",
       "      <th>resname</th>\n",
       "      <th>resid</th>\n",
       "      <th>x_1</th>\n",
       "      <th>y_1</th>\n",
       "      <th>z_1</th>\n",
       "    </tr>\n",
       "  </thead>\n",
       "  <tbody>\n",
       "    <tr>\n",
       "      <th>0</th>\n",
       "      <td>1SCL_A_1</td>\n",
       "      <td>G</td>\n",
       "      <td>1</td>\n",
       "      <td>13.760</td>\n",
       "      <td>-25.974001</td>\n",
       "      <td>0.102</td>\n",
       "    </tr>\n",
       "    <tr>\n",
       "      <th>1</th>\n",
       "      <td>1SCL_A_2</td>\n",
       "      <td>G</td>\n",
       "      <td>2</td>\n",
       "      <td>9.310</td>\n",
       "      <td>-29.638000</td>\n",
       "      <td>2.669</td>\n",
       "    </tr>\n",
       "    <tr>\n",
       "      <th>2</th>\n",
       "      <td>1SCL_A_3</td>\n",
       "      <td>G</td>\n",
       "      <td>3</td>\n",
       "      <td>5.529</td>\n",
       "      <td>-27.813000</td>\n",
       "      <td>5.878</td>\n",
       "    </tr>\n",
       "  </tbody>\n",
       "</table>\n",
       "</div>"
      ],
      "text/plain": [
       "         ID resname  resid     x_1        y_1    z_1\n",
       "0  1SCL_A_1       G      1  13.760 -25.974001  0.102\n",
       "1  1SCL_A_2       G      2   9.310 -29.638000  2.669\n",
       "2  1SCL_A_3       G      3   5.529 -27.813000  5.878"
      ]
     },
     "execution_count": 11,
     "metadata": {},
     "output_type": "execute_result"
    }
   ],
   "source": [
    "# Assuming train_labels is a Pandas DataFrame\n",
    "# Print the number of rows and columns\n",
    "print(f'train_labels has {train_labels.shape[0]} rows and {train_labels.shape[1]} columns.')\n",
    "# Print the total number of missing values\n",
    "print(f'train_labels has {train_labels.isna().sum().sum()} NAs.')\n",
    "# Quick view of the data\n",
    "train_labels.head(3)"
   ]
  },
  {
   "cell_type": "code",
   "execution_count": 12,
   "id": "6be4e42f",
   "metadata": {
    "execution": {
     "iopub.execute_input": "2025-04-27T22:56:46.932359Z",
     "iopub.status.busy": "2025-04-27T22:56:46.931990Z",
     "iopub.status.idle": "2025-04-27T22:56:46.937297Z",
     "shell.execute_reply": "2025-04-27T22:56:46.936375Z"
    },
    "papermill": {
     "duration": 0.022434,
     "end_time": "2025-04-27T22:56:46.938801",
     "exception": false,
     "start_time": "2025-04-27T22:56:46.916367",
     "status": "completed"
    },
    "tags": []
   },
   "outputs": [
    {
     "data": {
      "text/plain": [
       "(137095, 6)"
      ]
     },
     "execution_count": 12,
     "metadata": {},
     "output_type": "execute_result"
    }
   ],
   "source": [
    "train_labels.shape"
   ]
  },
  {
   "cell_type": "code",
   "execution_count": 13,
   "id": "f1dae6fb",
   "metadata": {
    "execution": {
     "iopub.execute_input": "2025-04-27T22:56:46.966641Z",
     "iopub.status.busy": "2025-04-27T22:56:46.966334Z",
     "iopub.status.idle": "2025-04-27T22:56:46.996120Z",
     "shell.execute_reply": "2025-04-27T22:56:46.994923Z"
    },
    "papermill": {
     "duration": 0.045286,
     "end_time": "2025-04-27T22:56:46.997694",
     "exception": false,
     "start_time": "2025-04-27T22:56:46.952408",
     "status": "completed"
    },
    "tags": []
   },
   "outputs": [
    {
     "name": "stderr",
     "output_type": "stream",
     "text": [
      "/usr/local/lib/python3.10/dist-packages/pandas/io/formats/format.py:1458: RuntimeWarning: invalid value encountered in greater\n",
      "  has_large_values = (abs_vals > 1e6).any()\n",
      "/usr/local/lib/python3.10/dist-packages/pandas/io/formats/format.py:1459: RuntimeWarning: invalid value encountered in less\n",
      "  has_small_values = ((abs_vals < 10 ** (-self.digits)) & (abs_vals > 0)).any()\n",
      "/usr/local/lib/python3.10/dist-packages/pandas/io/formats/format.py:1459: RuntimeWarning: invalid value encountered in greater\n",
      "  has_small_values = ((abs_vals < 10 ** (-self.digits)) & (abs_vals > 0)).any()\n"
     ]
    },
    {
     "data": {
      "text/html": [
       "<div>\n",
       "<style scoped>\n",
       "    .dataframe tbody tr th:only-of-type {\n",
       "        vertical-align: middle;\n",
       "    }\n",
       "\n",
       "    .dataframe tbody tr th {\n",
       "        vertical-align: top;\n",
       "    }\n",
       "\n",
       "    .dataframe thead th {\n",
       "        text-align: right;\n",
       "    }\n",
       "</style>\n",
       "<table border=\"1\" class=\"dataframe\">\n",
       "  <thead>\n",
       "    <tr style=\"text-align: right;\">\n",
       "      <th></th>\n",
       "      <th>ID</th>\n",
       "      <th>resname</th>\n",
       "      <th>resid</th>\n",
       "      <th>x_1</th>\n",
       "      <th>y_1</th>\n",
       "      <th>z_1</th>\n",
       "    </tr>\n",
       "  </thead>\n",
       "  <tbody>\n",
       "    <tr>\n",
       "      <th>410</th>\n",
       "      <td>1ZDI_S_1</td>\n",
       "      <td>A</td>\n",
       "      <td>1</td>\n",
       "      <td>NaN</td>\n",
       "      <td>NaN</td>\n",
       "      <td>NaN</td>\n",
       "    </tr>\n",
       "    <tr>\n",
       "      <th>411</th>\n",
       "      <td>1ZDI_S_2</td>\n",
       "      <td>C</td>\n",
       "      <td>2</td>\n",
       "      <td>NaN</td>\n",
       "      <td>NaN</td>\n",
       "      <td>NaN</td>\n",
       "    </tr>\n",
       "    <tr>\n",
       "      <th>412</th>\n",
       "      <td>1ZDI_S_3</td>\n",
       "      <td>A</td>\n",
       "      <td>3</td>\n",
       "      <td>NaN</td>\n",
       "      <td>NaN</td>\n",
       "      <td>NaN</td>\n",
       "    </tr>\n",
       "  </tbody>\n",
       "</table>\n",
       "</div>"
      ],
      "text/plain": [
       "           ID resname  resid  x_1  y_1  z_1\n",
       "410  1ZDI_S_1       A      1  NaN  NaN  NaN\n",
       "411  1ZDI_S_2       C      2  NaN  NaN  NaN\n",
       "412  1ZDI_S_3       A      3  NaN  NaN  NaN"
      ]
     },
     "execution_count": 13,
     "metadata": {},
     "output_type": "execute_result"
    }
   ],
   "source": [
    "# Find rows with missing values and display the first 3 rows\n",
    "na_rows = train_labels[train_labels.isna().any(axis=1)]\n",
    "# Print the first 3 rows\n",
    "na_rows.head(3)"
   ]
  },
  {
   "cell_type": "code",
   "execution_count": 14,
   "id": "62056d8b",
   "metadata": {
    "execution": {
     "iopub.execute_input": "2025-04-27T22:56:47.026788Z",
     "iopub.status.busy": "2025-04-27T22:56:47.026496Z",
     "iopub.status.idle": "2025-04-27T22:56:47.031628Z",
     "shell.execute_reply": "2025-04-27T22:56:47.030674Z"
    },
    "papermill": {
     "duration": 0.020712,
     "end_time": "2025-04-27T22:56:47.032981",
     "exception": false,
     "start_time": "2025-04-27T22:56:47.012269",
     "status": "completed"
    },
    "tags": []
   },
   "outputs": [
    {
     "data": {
      "text/plain": [
       "(6145, 6)"
      ]
     },
     "execution_count": 14,
     "metadata": {},
     "output_type": "execute_result"
    }
   ],
   "source": [
    "na_rows.shape"
   ]
  },
  {
   "cell_type": "markdown",
   "id": "3fefb3c8",
   "metadata": {
    "papermill": {
     "duration": 0.01363,
     "end_time": "2025-04-27T22:56:47.060803",
     "exception": false,
     "start_time": "2025-04-27T22:56:47.047173",
     "status": "completed"
    },
    "tags": []
   },
   "source": [
    "### Let's create a boxplot of the coordinate values for x, y, & z "
   ]
  },
  {
   "cell_type": "code",
   "execution_count": 15,
   "id": "3bceae45",
   "metadata": {
    "execution": {
     "iopub.execute_input": "2025-04-27T22:56:47.089511Z",
     "iopub.status.busy": "2025-04-27T22:56:47.089109Z",
     "iopub.status.idle": "2025-04-27T22:56:47.701642Z",
     "shell.execute_reply": "2025-04-27T22:56:47.700590Z"
    },
    "papermill": {
     "duration": 0.628741,
     "end_time": "2025-04-27T22:56:47.703167",
     "exception": false,
     "start_time": "2025-04-27T22:56:47.074426",
     "status": "completed"
    },
    "tags": []
   },
   "outputs": [
    {
     "data": {
      "image/png": "[encoded data removed]",
      "text/plain": [
       "<Figure size 1500x800 with 1 Axes>"
      ]
     },
     "metadata": {},
     "output_type": "display_data"
    }
   ],
   "source": [
    "# Select x_1, y_1, z_1 columns and convert to long format\n",
    "train_labels_long = train_labels[['x_1', 'y_1', 'z_1']].melt(var_name='coordinate', value_name='value')\n",
    "# Set the size of the canvas\n",
    "plt.figure(figsize=(15, 8))\n",
    "# Draw a boxplot\n",
    "sns.boxplot(x='value', y='coordinate', data=train_labels_long, hue='coordinate', palette='YlGnBu', dodge=False)\n",
    "# Add labels and title\n",
    "plt.xlabel(\"Coordinate Values\")\n",
    "plt.ylabel(\"Coordinates\")\n",
    "plt.title(\"Boxplot of coordinate values in train_labels\")\n",
    "plt.legend(title='Coordinate', loc='upper right')\n",
    "plt.grid(True)\n",
    "plt.show()"
   ]
  },
  {
   "cell_type": "markdown",
   "id": "cd07e930",
   "metadata": {
    "papermill": {
     "duration": 0.014335,
     "end_time": "2025-04-27T22:56:47.732341",
     "exception": false,
     "start_time": "2025-04-27T22:56:47.718006",
     "status": "completed"
    },
    "tags": []
   },
   "source": [
    "### Resname occurrences in train_labels"
   ]
  },
  {
   "cell_type": "code",
   "execution_count": 16,
   "id": "22496228",
   "metadata": {
    "execution": {
     "iopub.execute_input": "2025-04-27T22:56:47.762204Z",
     "iopub.status.busy": "2025-04-27T22:56:47.761838Z",
     "iopub.status.idle": "2025-04-27T22:56:48.011527Z",
     "shell.execute_reply": "2025-04-27T22:56:48.010511Z"
    },
    "papermill": {
     "duration": 0.266549,
     "end_time": "2025-04-27T22:56:48.013042",
     "exception": false,
     "start_time": "2025-04-27T22:56:47.746493",
     "status": "completed"
    },
    "tags": []
   },
   "outputs": [
    {
     "data": {
      "image/png": "[encoded data removed]",
      "text/plain": [
       "<Figure size 1500x800 with 1 Axes>"
      ]
     },
     "metadata": {},
     "output_type": "display_data"
    }
   ],
   "source": [
    "# Calculate the occurrence of each resname\n",
    "resname_counts = train_labels.groupby('resname').size().reset_index(name='total')\n",
    "# Set the size of the canvas\n",
    "plt.figure(figsize=(15, 8))\n",
    "# Draw a bar plot\n",
    "sns.barplot(x='resname', y='total', data=resname_counts, palette='Blues')\n",
    "# Add count labels on the bars\n",
    "for index, row in resname_counts.iterrows():\n",
    "    plt.text(index, row['total'], row['total'], ha='center', va='bottom')\n",
    "# Set labels and title\n",
    "plt.xlabel(\"Resname\")\n",
    "plt.ylabel(\"Count\")\n",
    "plt.title(\"Barplot of resname occurrences in train_labels\")\n",
    "# Hide the legend\n",
    "plt.legend().set_visible(False)\n",
    "# Use a minimalist theme\n",
    "sns.set_theme(style=\"whitegrid\")\n",
    "# Show the plot\n",
    "plt.show()"
   ]
  },
  {
   "cell_type": "markdown",
   "id": "e4572de6",
   "metadata": {
    "papermill": {
     "duration": 0.015132,
     "end_time": "2025-04-27T22:56:48.043587",
     "exception": false,
     "start_time": "2025-04-27T22:56:48.028455",
     "status": "completed"
    },
    "tags": []
   },
   "source": [
    "### validation_sequences.csv"
   ]
  },
  {
   "cell_type": "code",
   "execution_count": 17,
   "id": "6766a890",
   "metadata": {
    "execution": {
     "iopub.execute_input": "2025-04-27T22:56:48.075103Z",
     "iopub.status.busy": "2025-04-27T22:56:48.074783Z",
     "iopub.status.idle": "2025-04-27T22:56:48.086097Z",
     "shell.execute_reply": "2025-04-27T22:56:48.085463Z"
    },
    "papermill": {
     "duration": 0.02902,
     "end_time": "2025-04-27T22:56:48.087609",
     "exception": false,
     "start_time": "2025-04-27T22:56:48.058589",
     "status": "completed"
    },
    "tags": []
   },
   "outputs": [
    {
     "name": "stdout",
     "output_type": "stream",
     "text": [
      "validation_sequences has 12 rows and 5 columns.\n",
      "validation_sequences has 0 NAs.\n"
     ]
    },
    {
     "data": {
      "text/html": [
       "<div>\n",
       "<style scoped>\n",
       "    .dataframe tbody tr th:only-of-type {\n",
       "        vertical-align: middle;\n",
       "    }\n",
       "\n",
       "    .dataframe tbody tr th {\n",
       "        vertical-align: top;\n",
       "    }\n",
       "\n",
       "    .dataframe thead th {\n",
       "        text-align: right;\n",
       "    }\n",
       "</style>\n",
       "<table border=\"1\" class=\"dataframe\">\n",
       "  <thead>\n",
       "    <tr style=\"text-align: right;\">\n",
       "      <th></th>\n",
       "      <th>target_id</th>\n",
       "      <th>sequence</th>\n",
       "      <th>temporal_cutoff</th>\n",
       "      <th>description</th>\n",
       "      <th>all_sequences</th>\n",
       "    </tr>\n",
       "  </thead>\n",
       "  <tbody>\n",
       "    <tr>\n",
       "      <th>0</th>\n",
       "      <td>R1107</td>\n",
       "      <td>GGGGGCCACAGCAGAAGCGUUCACGUCGCAGCCCCUGUCAGCCAUU...</td>\n",
       "      <td>2022-05-28</td>\n",
       "      <td>CPEB3 ribozyme\\nHuman\\nhuman CPEB3 HDV-like ri...</td>\n",
       "      <td>&gt;7QR4_1|Chain A|U1 small nuclear ribonucleopro...</td>\n",
       "    </tr>\n",
       "    <tr>\n",
       "      <th>1</th>\n",
       "      <td>R1108</td>\n",
       "      <td>GGGGGCCACAGCAGAAGCGUUCACGUCGCGGCCCCUGUCAGCCAUU...</td>\n",
       "      <td>2022-05-27</td>\n",
       "      <td>CPEB3 ribozyme\\nChimpanzee\\nChimpanzee CPEB3 H...</td>\n",
       "      <td>&gt;7QR3_1|Chains A, B|U1 small nuclear ribonucle...</td>\n",
       "    </tr>\n",
       "    <tr>\n",
       "      <th>2</th>\n",
       "      <td>R1116</td>\n",
       "      <td>CGCCCGGAUAGCUCAGUCGGUAGAGCAGCGGCUAAAACAGCUCUGG...</td>\n",
       "      <td>2022-06-04</td>\n",
       "      <td>Cloverleaf RNA\\nPoliovirus\\nCrystal Structure ...</td>\n",
       "      <td>&gt;8S95_1|Chain A[auth C]|Lysine tRNA scaffold,P...</td>\n",
       "    </tr>\n",
       "  </tbody>\n",
       "</table>\n",
       "</div>"
      ],
      "text/plain": [
       "  target_id                                           sequence  \\\n",
       "0     R1107  GGGGGCCACAGCAGAAGCGUUCACGUCGCAGCCCCUGUCAGCCAUU...   \n",
       "1     R1108  GGGGGCCACAGCAGAAGCGUUCACGUCGCGGCCCCUGUCAGCCAUU...   \n",
       "2     R1116  CGCCCGGAUAGCUCAGUCGGUAGAGCAGCGGCUAAAACAGCUCUGG...   \n",
       "\n",
       "  temporal_cutoff                                        description  \\\n",
       "0      2022-05-28  CPEB3 ribozyme\\nHuman\\nhuman CPEB3 HDV-like ri...   \n",
       "1      2022-05-27  CPEB3 ribozyme\\nChimpanzee\\nChimpanzee CPEB3 H...   \n",
       "2      2022-06-04  Cloverleaf RNA\\nPoliovirus\\nCrystal Structure ...   \n",
       "\n",
       "                                       all_sequences  \n",
       "0  >7QR4_1|Chain A|U1 small nuclear ribonucleopro...  \n",
       "1  >7QR3_1|Chains A, B|U1 small nuclear ribonucle...  \n",
       "2  >8S95_1|Chain A[auth C]|Lysine tRNA scaffold,P...  "
      ]
     },
     "execution_count": 17,
     "metadata": {},
     "output_type": "execute_result"
    }
   ],
   "source": [
    "# Import necessary libraries\n",
    "import pandas as pd\n",
    "\n",
    "# Assuming validation_sequences is a Pandas DataFrame\n",
    "# Print the number of rows and columns\n",
    "print(f'validation_sequences has {validation_sequences.shape[0]} rows and {validation_sequences.shape[1]} columns.')\n",
    "\n",
    "# Print the total number of missing values\n",
    "print(f'validation_sequences has {validation_sequences.isna().sum().sum()} NAs.')\n",
    "\n",
    "# Quick view of the data\n",
    "validation_sequences.head(3)"
   ]
  },
  {
   "cell_type": "markdown",
   "id": "128b55bb",
   "metadata": {
    "papermill": {
     "duration": 0.016195,
     "end_time": "2025-04-27T22:56:48.120595",
     "exception": false,
     "start_time": "2025-04-27T22:56:48.104400",
     "status": "completed"
    },
    "tags": []
   },
   "source": [
    "### Let's recreate the boxplot of the sequence lengths we used in train_sequences, using outliers = FALSE"
   ]
  },
  {
   "cell_type": "code",
   "execution_count": 18,
   "id": "e3e244b0",
   "metadata": {
    "execution": {
     "iopub.execute_input": "2025-04-27T22:56:48.154485Z",
     "iopub.status.busy": "2025-04-27T22:56:48.154178Z",
     "iopub.status.idle": "2025-04-27T22:56:48.384171Z",
     "shell.execute_reply": "2025-04-27T22:56:48.383180Z"
    },
    "papermill": {
     "duration": 0.248805,
     "end_time": "2025-04-27T22:56:48.385722",
     "exception": false,
     "start_time": "2025-04-27T22:56:48.136917",
     "status": "completed"
    },
    "tags": []
   },
   "outputs": [
    {
     "data": {
      "image/png": "[encoded data removed]",
      "text/plain": [
       "<Figure size 1500x800 with 1 Axes>"
      ]
     },
     "metadata": {},
     "output_type": "display_data"
    }
   ],
   "source": [
    "# Import necessary libraries\n",
    "import pandas as pd\n",
    "import seaborn as sns\n",
    "import matplotlib.pyplot as plt\n",
    "\n",
    "# Assuming validation_sequences is a Pandas DataFrame\n",
    "# Calculate sequence length and create a new column\n",
    "validation_sequences['length'] = validation_sequences['sequence'].str.len()\n",
    "\n",
    "# Set the size of the canvas\n",
    "plt.figure(figsize=(15, 8))\n",
    "\n",
    "# Draw a boxplot\n",
    "sns.boxplot(x='length', data=validation_sequences, showfliers=False)\n",
    "\n",
    "# Set labels and title\n",
    "plt.xlabel(\"Sequence length\")\n",
    "plt.ylabel(\"Sequence\")\n",
    "plt.title(\"Boxplot of sequence length values (without outliers)\")\n",
    "\n",
    "# Use a minimalist theme\n",
    "sns.set_theme(style=\"whitegrid\")\n",
    "\n",
    "# Show the plot\n",
    "plt.show()"
   ]
  },
  {
   "cell_type": "code",
   "execution_count": 19,
   "id": "73618019",
   "metadata": {
    "execution": {
     "iopub.execute_input": "2025-04-27T22:56:48.419582Z",
     "iopub.status.busy": "2025-04-27T22:56:48.419202Z",
     "iopub.status.idle": "2025-04-27T22:56:48.426220Z",
     "shell.execute_reply": "2025-04-27T22:56:48.425349Z"
    },
    "papermill": {
     "duration": 0.025908,
     "end_time": "2025-04-27T22:56:48.427690",
     "exception": false,
     "start_time": "2025-04-27T22:56:48.401782",
     "status": "completed"
    },
    "tags": []
   },
   "outputs": [
    {
     "name": "stdout",
     "output_type": "stream",
     "text": [
      "The train_sequences median sequence length is 39.5.\n",
      "The validation_sequences median sequence length is 129.5.\n"
     ]
    }
   ],
   "source": [
    "# Import necessary libraries\n",
    "import pandas as pd\n",
    "\n",
    "# Assuming train_sequences and validation_sequences are Pandas DataFrames\n",
    "# Calculate the median sequence length for train_sequences\n",
    "train_sequence_med = train_sequences['sequence'].str.len().median()\n",
    "\n",
    "# Calculate the median sequence length for validation_sequences\n",
    "valid_sequence_med = validation_sequences['sequence'].str.len().median()\n",
    "\n",
    "# Print the results\n",
    "print(f'The train_sequences median sequence length is {train_sequence_med}.')\n",
    "print(f'The validation_sequences median sequence length is {valid_sequence_med}.')"
   ]
  },
  {
   "cell_type": "markdown",
   "id": "b29f3d8f",
   "metadata": {
    "papermill": {
     "duration": 0.016267,
     "end_time": "2025-04-27T22:56:48.460675",
     "exception": false,
     "start_time": "2025-04-27T22:56:48.444408",
     "status": "completed"
    },
    "tags": []
   },
   "source": [
    "### validation_labels.csv"
   ]
  },
  {
   "cell_type": "code",
   "execution_count": 20,
   "id": "3a423c95",
   "metadata": {
    "execution": {
     "iopub.execute_input": "2025-04-27T22:56:48.496556Z",
     "iopub.status.busy": "2025-04-27T22:56:48.496104Z",
     "iopub.status.idle": "2025-04-27T22:56:48.527009Z",
     "shell.execute_reply": "2025-04-27T22:56:48.525800Z"
    },
    "papermill": {
     "duration": 0.051486,
     "end_time": "2025-04-27T22:56:48.528880",
     "exception": false,
     "start_time": "2025-04-27T22:56:48.477394",
     "status": "completed"
    },
    "tags": []
   },
   "outputs": [
    {
     "name": "stdout",
     "output_type": "stream",
     "text": [
      "validation_labels has 2515 rows and 123 columns.\n",
      "validation_labels has 0 NAs.\n",
      "Note validation_labels has 123 columns; train_labels has 6.\n"
     ]
    },
    {
     "data": {
      "text/html": [
       "<div>\n",
       "<style scoped>\n",
       "    .dataframe tbody tr th:only-of-type {\n",
       "        vertical-align: middle;\n",
       "    }\n",
       "\n",
       "    .dataframe tbody tr th {\n",
       "        vertical-align: top;\n",
       "    }\n",
       "\n",
       "    .dataframe thead th {\n",
       "        text-align: right;\n",
       "    }\n",
       "</style>\n",
       "<table border=\"1\" class=\"dataframe\">\n",
       "  <thead>\n",
       "    <tr style=\"text-align: right;\">\n",
       "      <th></th>\n",
       "      <th>ID</th>\n",
       "      <th>resname</th>\n",
       "      <th>resid</th>\n",
       "      <th>x_1</th>\n",
       "      <th>y_1</th>\n",
       "      <th>z_1</th>\n",
       "      <th>x_2</th>\n",
       "      <th>y_2</th>\n",
       "      <th>z_2</th>\n",
       "      <th>x_3</th>\n",
       "      <th>...</th>\n",
       "      <th>z_37</th>\n",
       "      <th>x_38</th>\n",
       "      <th>y_38</th>\n",
       "      <th>z_38</th>\n",
       "      <th>x_39</th>\n",
       "      <th>y_39</th>\n",
       "      <th>z_39</th>\n",
       "      <th>x_40</th>\n",
       "      <th>y_40</th>\n",
       "      <th>z_40</th>\n",
       "    </tr>\n",
       "  </thead>\n",
       "  <tbody>\n",
       "    <tr>\n",
       "      <th>0</th>\n",
       "      <td>R1107_1</td>\n",
       "      <td>G</td>\n",
       "      <td>1</td>\n",
       "      <td>-5.499</td>\n",
       "      <td>8.520</td>\n",
       "      <td>8.605000</td>\n",
       "      <td>-1.000000e+18</td>\n",
       "      <td>-1.000000e+18</td>\n",
       "      <td>-1.000000e+18</td>\n",
       "      <td>-1.000000e+18</td>\n",
       "      <td>...</td>\n",
       "      <td>-1.000000e+18</td>\n",
       "      <td>-1.000000e+18</td>\n",
       "      <td>-1.000000e+18</td>\n",
       "      <td>-1.000000e+18</td>\n",
       "      <td>-1.000000e+18</td>\n",
       "      <td>-1.000000e+18</td>\n",
       "      <td>-1.000000e+18</td>\n",
       "      <td>-1.000000e+18</td>\n",
       "      <td>-1.000000e+18</td>\n",
       "      <td>-1.000000e+18</td>\n",
       "    </tr>\n",
       "    <tr>\n",
       "      <th>1</th>\n",
       "      <td>R1107_2</td>\n",
       "      <td>G</td>\n",
       "      <td>2</td>\n",
       "      <td>-5.826</td>\n",
       "      <td>10.453</td>\n",
       "      <td>14.010000</td>\n",
       "      <td>-1.000000e+18</td>\n",
       "      <td>-1.000000e+18</td>\n",
       "      <td>-1.000000e+18</td>\n",
       "      <td>-1.000000e+18</td>\n",
       "      <td>...</td>\n",
       "      <td>-1.000000e+18</td>\n",
       "      <td>-1.000000e+18</td>\n",
       "      <td>-1.000000e+18</td>\n",
       "      <td>-1.000000e+18</td>\n",
       "      <td>-1.000000e+18</td>\n",
       "      <td>-1.000000e+18</td>\n",
       "      <td>-1.000000e+18</td>\n",
       "      <td>-1.000000e+18</td>\n",
       "      <td>-1.000000e+18</td>\n",
       "      <td>-1.000000e+18</td>\n",
       "    </tr>\n",
       "    <tr>\n",
       "      <th>2</th>\n",
       "      <td>R1107_3</td>\n",
       "      <td>G</td>\n",
       "      <td>3</td>\n",
       "      <td>-5.849</td>\n",
       "      <td>14.768</td>\n",
       "      <td>17.584999</td>\n",
       "      <td>-1.000000e+18</td>\n",
       "      <td>-1.000000e+18</td>\n",
       "      <td>-1.000000e+18</td>\n",
       "      <td>-1.000000e+18</td>\n",
       "      <td>...</td>\n",
       "      <td>-1.000000e+18</td>\n",
       "      <td>-1.000000e+18</td>\n",
       "      <td>-1.000000e+18</td>\n",
       "      <td>-1.000000e+18</td>\n",
       "      <td>-1.000000e+18</td>\n",
       "      <td>-1.000000e+18</td>\n",
       "      <td>-1.000000e+18</td>\n",
       "      <td>-1.000000e+18</td>\n",
       "      <td>-1.000000e+18</td>\n",
       "      <td>-1.000000e+18</td>\n",
       "    </tr>\n",
       "  </tbody>\n",
       "</table>\n",
       "<p>3 rows × 123 columns</p>\n",
       "</div>"
      ],
      "text/plain": [
       "        ID resname  resid    x_1     y_1        z_1           x_2  \\\n",
       "0  R1107_1       G      1 -5.499   8.520   8.605000 -1.000000e+18   \n",
       "1  R1107_2       G      2 -5.826  10.453  14.010000 -1.000000e+18   \n",
       "2  R1107_3       G      3 -5.849  14.768  17.584999 -1.000000e+18   \n",
       "\n",
       "            y_2           z_2           x_3  ...          z_37          x_38  \\\n",
       "0 -1.000000e+18 -1.000000e+18 -1.000000e+18  ... -1.000000e+18 -1.000000e+18   \n",
       "1 -1.000000e+18 -1.000000e+18 -1.000000e+18  ... -1.000000e+18 -1.000000e+18   \n",
       "2 -1.000000e+18 -1.000000e+18 -1.000000e+18  ... -1.000000e+18 -1.000000e+18   \n",
       "\n",
       "           y_38          z_38          x_39          y_39          z_39  \\\n",
       "0 -1.000000e+18 -1.000000e+18 -1.000000e+18 -1.000000e+18 -1.000000e+18   \n",
       "1 -1.000000e+18 -1.000000e+18 -1.000000e+18 -1.000000e+18 -1.000000e+18   \n",
       "2 -1.000000e+18 -1.000000e+18 -1.000000e+18 -1.000000e+18 -1.000000e+18   \n",
       "\n",
       "           x_40          y_40          z_40  \n",
       "0 -1.000000e+18 -1.000000e+18 -1.000000e+18  \n",
       "1 -1.000000e+18 -1.000000e+18 -1.000000e+18  \n",
       "2 -1.000000e+18 -1.000000e+18 -1.000000e+18  \n",
       "\n",
       "[3 rows x 123 columns]"
      ]
     },
     "execution_count": 20,
     "metadata": {},
     "output_type": "execute_result"
    }
   ],
   "source": [
    "# Import necessary libraries\n",
    "import pandas as pd\n",
    "\n",
    "# Assuming validation_labels is a Pandas DataFrame\n",
    "# Print the number of rows and columns\n",
    "print(f'validation_labels has {validation_labels.shape[0]} rows and {validation_labels.shape[1]} columns.')\n",
    "\n",
    "# Print the total number of missing values\n",
    "print(f'validation_labels has {validation_labels.isna().sum().sum()} NAs.')\n",
    "\n",
    "print(\"Note validation_labels has 123 columns; train_labels has 6.\")\n",
    "# Quick view of the data\n",
    "validation_labels.head(3)"
   ]
  },
  {
   "cell_type": "markdown",
   "id": "6d1c16d2",
   "metadata": {
    "papermill": {
     "duration": 0.017501,
     "end_time": "2025-04-27T22:56:48.564167",
     "exception": false,
     "start_time": "2025-04-27T22:56:48.546666",
     "status": "completed"
    },
    "tags": []
   },
   "source": [
    "### The number of NAs is misleading; from a discussion post [here](https://www.kaggle.com/competitions/stanford-rna-3d-folding/discussion/565746), the -1e+18 should be interpreted as NA/NaN values.\n",
    "\n",
    "### We will recreate the resname boxplot from train_labels from earlier:"
   ]
  },
  {
   "cell_type": "code",
   "execution_count": 21,
   "id": "bc14d598",
   "metadata": {
    "execution": {
     "iopub.execute_input": "2025-04-27T22:56:48.599794Z",
     "iopub.status.busy": "2025-04-27T22:56:48.599465Z",
     "iopub.status.idle": "2025-04-27T22:56:48.850642Z",
     "shell.execute_reply": "2025-04-27T22:56:48.849529Z"
    },
    "papermill": {
     "duration": 0.27072,
     "end_time": "2025-04-27T22:56:48.852220",
     "exception": false,
     "start_time": "2025-04-27T22:56:48.581500",
     "status": "completed"
    },
    "tags": []
   },
   "outputs": [
    {
     "data": {
      "image/png": "[encoded data removed]",
      "text/plain": [
       "<Figure size 1500x800 with 1 Axes>"
      ]
     },
     "metadata": {},
     "output_type": "display_data"
    },
    {
     "name": "stdout",
     "output_type": "stream",
     "text": [
      "Note there are no missing or 'X' resnames.\n",
      "Also of note is in this dataset, 'U' occurs more frequently than 'A'. 'C' and 'G' maintain their ordering.\n"
     ]
    }
   ],
   "source": [
    "# Import necessary libraries\n",
    "import pandas as pd\n",
    "import seaborn as sns\n",
    "import matplotlib.pyplot as plt\n",
    "\n",
    "# Assuming validation_labels is a Pandas DataFrame\n",
    "# Calculate the occurrence of each resname\n",
    "resname_counts = validation_labels.groupby('resname').size().reset_index(name='total')\n",
    "\n",
    "# Set the size of the canvas\n",
    "plt.figure(figsize=(15, 8))\n",
    "\n",
    "# Draw a bar plot\n",
    "sns.barplot(x='resname', y='total', data=resname_counts, palette='Blues', order=resname_counts.sort_values('total')['resname'])\n",
    "\n",
    "# Add count labels on the bars\n",
    "for index, row in resname_counts.iterrows():\n",
    "    plt.text(index, row['total'], row['total'], ha='center', va='bottom')\n",
    "\n",
    "# Set labels and title\n",
    "plt.xlabel(\"Resname\")\n",
    "plt.ylabel(\"Count\")\n",
    "plt.title(\"Barplot of resname occurrences in validation_labels\")\n",
    "\n",
    "# Hide the legend\n",
    "plt.legend().set_visible(False)\n",
    "\n",
    "# Use a minimalist theme\n",
    "sns.set_theme(style=\"whitegrid\")\n",
    "\n",
    "# Show the plot\n",
    "plt.show()\n",
    "\n",
    "# Explanation\n",
    "print(\"Note there are no missing or 'X' resnames.\")\n",
    "print(\"Also of note is in this dataset, 'U' occurs more frequently than 'A'. 'C' and 'G' maintain their ordering.\")"
   ]
  },
  {
   "cell_type": "markdown",
   "id": "aec30d05",
   "metadata": {
    "papermill": {
     "duration": 0.01674,
     "end_time": "2025-04-27T22:56:48.886486",
     "exception": false,
     "start_time": "2025-04-27T22:56:48.869746",
     "status": "completed"
    },
    "tags": []
   },
   "source": [
    "### Submission format"
   ]
  },
  {
   "cell_type": "code",
   "execution_count": 22,
   "id": "89d88979",
   "metadata": {
    "execution": {
     "iopub.execute_input": "2025-04-27T22:56:48.923612Z",
     "iopub.status.busy": "2025-04-27T22:56:48.923225Z",
     "iopub.status.idle": "2025-04-27T22:56:48.961177Z",
     "shell.execute_reply": "2025-04-27T22:56:48.960062Z"
    },
    "papermill": {
     "duration": 0.05875,
     "end_time": "2025-04-27T22:56:48.962894",
     "exception": false,
     "start_time": "2025-04-27T22:56:48.904144",
     "status": "completed"
    },
    "tags": []
   },
   "outputs": [
    {
     "name": "stdout",
     "output_type": "stream",
     "text": [
      "There are 2515 rows and 18 columns.\n",
      "Note: It is required to submit 5 sets of coordinate plots (x,y,z), per ID, resname & resid from the target_id, which is 18 columns.\n",
      "For rows in the submission, we need one row for each resname/resid for each target.\n",
      "From the sample submission, we need 2515 rows.\n"
     ]
    },
    {
     "data": {
      "text/html": [
       "<div>\n",
       "<style scoped>\n",
       "    .dataframe tbody tr th:only-of-type {\n",
       "        vertical-align: middle;\n",
       "    }\n",
       "\n",
       "    .dataframe tbody tr th {\n",
       "        vertical-align: top;\n",
       "    }\n",
       "\n",
       "    .dataframe thead th {\n",
       "        text-align: right;\n",
       "    }\n",
       "</style>\n",
       "<table border=\"1\" class=\"dataframe\">\n",
       "  <thead>\n",
       "    <tr style=\"text-align: right;\">\n",
       "      <th></th>\n",
       "      <th>ID</th>\n",
       "      <th>resname</th>\n",
       "      <th>resid</th>\n",
       "      <th>x_1</th>\n",
       "      <th>y_1</th>\n",
       "      <th>z_1</th>\n",
       "      <th>x_2</th>\n",
       "      <th>y_2</th>\n",
       "      <th>z_2</th>\n",
       "      <th>x_3</th>\n",
       "      <th>y_3</th>\n",
       "      <th>z_3</th>\n",
       "      <th>x_4</th>\n",
       "      <th>y_4</th>\n",
       "      <th>z_4</th>\n",
       "      <th>x_5</th>\n",
       "      <th>y_5</th>\n",
       "      <th>z_5</th>\n",
       "    </tr>\n",
       "  </thead>\n",
       "  <tbody>\n",
       "    <tr>\n",
       "      <th>0</th>\n",
       "      <td>R1107_1</td>\n",
       "      <td>G</td>\n",
       "      <td>1</td>\n",
       "      <td>0.0</td>\n",
       "      <td>0.0</td>\n",
       "      <td>0.0</td>\n",
       "      <td>0.0</td>\n",
       "      <td>0.0</td>\n",
       "      <td>0.0</td>\n",
       "      <td>0.0</td>\n",
       "      <td>0.0</td>\n",
       "      <td>0.0</td>\n",
       "      <td>0.0</td>\n",
       "      <td>0.0</td>\n",
       "      <td>0.0</td>\n",
       "      <td>0.0</td>\n",
       "      <td>0.0</td>\n",
       "      <td>0.0</td>\n",
       "    </tr>\n",
       "    <tr>\n",
       "      <th>1</th>\n",
       "      <td>R1107_2</td>\n",
       "      <td>G</td>\n",
       "      <td>2</td>\n",
       "      <td>0.0</td>\n",
       "      <td>0.0</td>\n",
       "      <td>0.0</td>\n",
       "      <td>0.0</td>\n",
       "      <td>0.0</td>\n",
       "      <td>0.0</td>\n",
       "      <td>0.0</td>\n",
       "      <td>0.0</td>\n",
       "      <td>0.0</td>\n",
       "      <td>0.0</td>\n",
       "      <td>0.0</td>\n",
       "      <td>0.0</td>\n",
       "      <td>0.0</td>\n",
       "      <td>0.0</td>\n",
       "      <td>0.0</td>\n",
       "    </tr>\n",
       "    <tr>\n",
       "      <th>2</th>\n",
       "      <td>R1107_3</td>\n",
       "      <td>G</td>\n",
       "      <td>3</td>\n",
       "      <td>0.0</td>\n",
       "      <td>0.0</td>\n",
       "      <td>0.0</td>\n",
       "      <td>0.0</td>\n",
       "      <td>0.0</td>\n",
       "      <td>0.0</td>\n",
       "      <td>0.0</td>\n",
       "      <td>0.0</td>\n",
       "      <td>0.0</td>\n",
       "      <td>0.0</td>\n",
       "      <td>0.0</td>\n",
       "      <td>0.0</td>\n",
       "      <td>0.0</td>\n",
       "      <td>0.0</td>\n",
       "      <td>0.0</td>\n",
       "    </tr>\n",
       "    <tr>\n",
       "      <th>3</th>\n",
       "      <td>R1107_4</td>\n",
       "      <td>G</td>\n",
       "      <td>4</td>\n",
       "      <td>0.0</td>\n",
       "      <td>0.0</td>\n",
       "      <td>0.0</td>\n",
       "      <td>0.0</td>\n",
       "      <td>0.0</td>\n",
       "      <td>0.0</td>\n",
       "      <td>0.0</td>\n",
       "      <td>0.0</td>\n",
       "      <td>0.0</td>\n",
       "      <td>0.0</td>\n",
       "      <td>0.0</td>\n",
       "      <td>0.0</td>\n",
       "      <td>0.0</td>\n",
       "      <td>0.0</td>\n",
       "      <td>0.0</td>\n",
       "    </tr>\n",
       "    <tr>\n",
       "      <th>4</th>\n",
       "      <td>R1107_5</td>\n",
       "      <td>G</td>\n",
       "      <td>5</td>\n",
       "      <td>0.0</td>\n",
       "      <td>0.0</td>\n",
       "      <td>0.0</td>\n",
       "      <td>0.0</td>\n",
       "      <td>0.0</td>\n",
       "      <td>0.0</td>\n",
       "      <td>0.0</td>\n",
       "      <td>0.0</td>\n",
       "      <td>0.0</td>\n",
       "      <td>0.0</td>\n",
       "      <td>0.0</td>\n",
       "      <td>0.0</td>\n",
       "      <td>0.0</td>\n",
       "      <td>0.0</td>\n",
       "      <td>0.0</td>\n",
       "    </tr>\n",
       "    <tr>\n",
       "      <th>5</th>\n",
       "      <td>R1107_6</td>\n",
       "      <td>C</td>\n",
       "      <td>6</td>\n",
       "      <td>0.0</td>\n",
       "      <td>0.0</td>\n",
       "      <td>0.0</td>\n",
       "      <td>0.0</td>\n",
       "      <td>0.0</td>\n",
       "      <td>0.0</td>\n",
       "      <td>0.0</td>\n",
       "      <td>0.0</td>\n",
       "      <td>0.0</td>\n",
       "      <td>0.0</td>\n",
       "      <td>0.0</td>\n",
       "      <td>0.0</td>\n",
       "      <td>0.0</td>\n",
       "      <td>0.0</td>\n",
       "      <td>0.0</td>\n",
       "    </tr>\n",
       "  </tbody>\n",
       "</table>\n",
       "</div>"
      ],
      "text/plain": [
       "        ID resname  resid  x_1  y_1  z_1  x_2  y_2  z_2  x_3  y_3  z_3  x_4  \\\n",
       "0  R1107_1       G      1  0.0  0.0  0.0  0.0  0.0  0.0  0.0  0.0  0.0  0.0   \n",
       "1  R1107_2       G      2  0.0  0.0  0.0  0.0  0.0  0.0  0.0  0.0  0.0  0.0   \n",
       "2  R1107_3       G      3  0.0  0.0  0.0  0.0  0.0  0.0  0.0  0.0  0.0  0.0   \n",
       "3  R1107_4       G      4  0.0  0.0  0.0  0.0  0.0  0.0  0.0  0.0  0.0  0.0   \n",
       "4  R1107_5       G      5  0.0  0.0  0.0  0.0  0.0  0.0  0.0  0.0  0.0  0.0   \n",
       "5  R1107_6       C      6  0.0  0.0  0.0  0.0  0.0  0.0  0.0  0.0  0.0  0.0   \n",
       "\n",
       "   y_4  z_4  x_5  y_5  z_5  \n",
       "0  0.0  0.0  0.0  0.0  0.0  \n",
       "1  0.0  0.0  0.0  0.0  0.0  \n",
       "2  0.0  0.0  0.0  0.0  0.0  \n",
       "3  0.0  0.0  0.0  0.0  0.0  \n",
       "4  0.0  0.0  0.0  0.0  0.0  \n",
       "5  0.0  0.0  0.0  0.0  0.0  "
      ]
     },
     "execution_count": 22,
     "metadata": {},
     "output_type": "execute_result"
    }
   ],
   "source": [
    "# Import necessary libraries\n",
    "import pandas as pd\n",
    "\n",
    "# Read the sample submission file\n",
    "sample_submission = pd.read_csv('/kaggle/input/stanford-rna-3d-folding/sample_submission.csv')\n",
    "\n",
    "# Print the number of rows and columns\n",
    "print(f'There are {sample_submission.shape[0]} rows and {sample_submission.shape[1]} columns.')\n",
    "\n",
    "# Quick view of the first 6 rows of data\n",
    "print(\"Note: It is required to submit 5 sets of coordinate plots (x,y,z), per ID, resname & resid from the target_id, which is 18 columns.\")\n",
    "print(\"For rows in the submission, we need one row for each resname/resid for each target.\")\n",
    "print(\"From the sample submission, we need 2515 rows.\")\n",
    "sample_submission.head(6)"
   ]
  },
  {
   "cell_type": "markdown",
   "id": "f1c571b9",
   "metadata": {
    "papermill": {
     "duration": 0.019324,
     "end_time": "2025-04-27T22:56:49.002492",
     "exception": false,
     "start_time": "2025-04-27T22:56:48.983168",
     "status": "completed"
    },
    "tags": []
   },
   "source": [
    "# Model Training\n"
   ]
  },
  {
   "cell_type": "markdown",
   "id": "7e8e0704",
   "metadata": {
    "papermill": {
     "duration": 0.018716,
     "end_time": "2025-04-27T22:56:49.040623",
     "exception": false,
     "start_time": "2025-04-27T22:56:49.021907",
     "status": "completed"
    },
    "tags": []
   },
   "source": [
    "### Generate output file from test_sequence"
   ]
  },
  {
   "cell_type": "code",
   "execution_count": 23,
   "id": "b6658695",
   "metadata": {
    "execution": {
     "iopub.execute_input": "2025-04-27T22:56:49.086811Z",
     "iopub.status.busy": "2025-04-27T22:56:49.086467Z",
     "iopub.status.idle": "2025-04-27T22:56:49.120247Z",
     "shell.execute_reply": "2025-04-27T22:56:49.118784Z"
    },
    "papermill": {
     "duration": 0.061701,
     "end_time": "2025-04-27T22:56:49.122130",
     "exception": false,
     "start_time": "2025-04-27T22:56:49.060429",
     "status": "completed"
    },
    "tags": []
   },
   "outputs": [
    {
     "name": "stdout",
     "output_type": "stream",
     "text": [
      "There are 12 rows and 5 columns.\n",
      "Reading in the test sequences, we can see we have 12 rows and the same 5 columns found in train & validation sequences.\n"
     ]
    },
    {
     "data": {
      "text/html": [
       "<div>\n",
       "<style scoped>\n",
       "    .dataframe tbody tr th:only-of-type {\n",
       "        vertical-align: middle;\n",
       "    }\n",
       "\n",
       "    .dataframe tbody tr th {\n",
       "        vertical-align: top;\n",
       "    }\n",
       "\n",
       "    .dataframe thead th {\n",
       "        text-align: right;\n",
       "    }\n",
       "</style>\n",
       "<table border=\"1\" class=\"dataframe\">\n",
       "  <thead>\n",
       "    <tr style=\"text-align: right;\">\n",
       "      <th></th>\n",
       "      <th>target_id</th>\n",
       "      <th>sequence</th>\n",
       "      <th>temporal_cutoff</th>\n",
       "      <th>description</th>\n",
       "      <th>all_sequences</th>\n",
       "    </tr>\n",
       "  </thead>\n",
       "  <tbody>\n",
       "    <tr>\n",
       "      <th>0</th>\n",
       "      <td>R1107</td>\n",
       "      <td>GGGGGCCACAGCAGAAGCGUUCACGUCGCAGCCCCUGUCAGCCAUU...</td>\n",
       "      <td>2022-05-28</td>\n",
       "      <td>CPEB3 ribozyme\\nHuman\\nhuman CPEB3 HDV-like ri...</td>\n",
       "      <td>&gt;7QR4_1|Chain A|U1 small nuclear ribonucleopro...</td>\n",
       "    </tr>\n",
       "    <tr>\n",
       "      <th>1</th>\n",
       "      <td>R1108</td>\n",
       "      <td>GGGGGCCACAGCAGAAGCGUUCACGUCGCGGCCCCUGUCAGCCAUU...</td>\n",
       "      <td>2022-05-27</td>\n",
       "      <td>CPEB3 ribozyme\\nChimpanzee\\nChimpanzee CPEB3 H...</td>\n",
       "      <td>&gt;7QR3_1|Chains A, B|U1 small nuclear ribonucle...</td>\n",
       "    </tr>\n",
       "    <tr>\n",
       "      <th>2</th>\n",
       "      <td>R1116</td>\n",
       "      <td>CGCCCGGAUAGCUCAGUCGGUAGAGCAGCGGCUAAAACAGCUCUGG...</td>\n",
       "      <td>2022-06-04</td>\n",
       "      <td>Cloverleaf RNA\\nPoliovirus\\nCrystal Structure ...</td>\n",
       "      <td>&gt;8S95_1|Chain A[auth C]|Lysine tRNA scaffold,P...</td>\n",
       "    </tr>\n",
       "    <tr>\n",
       "      <th>3</th>\n",
       "      <td>R1117v2</td>\n",
       "      <td>UUGGGUUCCCUCACCCCAAUCAUAAAAAGG</td>\n",
       "      <td>2022-06-03</td>\n",
       "      <td>PreQ1 class I type III riboswitch\\nK. pneumoni...</td>\n",
       "      <td>&gt;8FZA_1|Chains A, B|PreQ1 Riboswitch (30-MER)|...</td>\n",
       "    </tr>\n",
       "    <tr>\n",
       "      <th>4</th>\n",
       "      <td>R1126</td>\n",
       "      <td>GGAAUCUCGCCCGAUGUUCGCAUCGGGAUUUGCAGGUCCAUGGAUU...</td>\n",
       "      <td>2022-06-11</td>\n",
       "      <td>Traptamer\\nSynthetic\\nAdditional Information: ...</td>\n",
       "      <td>&gt;8TVZ_1|Chain A[auth C]|RNA (363-MER)|syntheti...</td>\n",
       "    </tr>\n",
       "  </tbody>\n",
       "</table>\n",
       "</div>"
      ],
      "text/plain": [
       "  target_id                                           sequence  \\\n",
       "0     R1107  GGGGGCCACAGCAGAAGCGUUCACGUCGCAGCCCCUGUCAGCCAUU...   \n",
       "1     R1108  GGGGGCCACAGCAGAAGCGUUCACGUCGCGGCCCCUGUCAGCCAUU...   \n",
       "2     R1116  CGCCCGGAUAGCUCAGUCGGUAGAGCAGCGGCUAAAACAGCUCUGG...   \n",
       "3   R1117v2                     UUGGGUUCCCUCACCCCAAUCAUAAAAAGG   \n",
       "4     R1126  GGAAUCUCGCCCGAUGUUCGCAUCGGGAUUUGCAGGUCCAUGGAUU...   \n",
       "\n",
       "  temporal_cutoff                                        description  \\\n",
       "0      2022-05-28  CPEB3 ribozyme\\nHuman\\nhuman CPEB3 HDV-like ri...   \n",
       "1      2022-05-27  CPEB3 ribozyme\\nChimpanzee\\nChimpanzee CPEB3 H...   \n",
       "2      2022-06-04  Cloverleaf RNA\\nPoliovirus\\nCrystal Structure ...   \n",
       "3      2022-06-03  PreQ1 class I type III riboswitch\\nK. pneumoni...   \n",
       "4      2022-06-11  Traptamer\\nSynthetic\\nAdditional Information: ...   \n",
       "\n",
       "                                       all_sequences  \n",
       "0  >7QR4_1|Chain A|U1 small nuclear ribonucleopro...  \n",
       "1  >7QR3_1|Chains A, B|U1 small nuclear ribonucle...  \n",
       "2  >8S95_1|Chain A[auth C]|Lysine tRNA scaffold,P...  \n",
       "3  >8FZA_1|Chains A, B|PreQ1 Riboswitch (30-MER)|...  \n",
       "4  >8TVZ_1|Chain A[auth C]|RNA (363-MER)|syntheti...  "
      ]
     },
     "execution_count": 23,
     "metadata": {},
     "output_type": "execute_result"
    }
   ],
   "source": [
    "# Import necessary libraries\n",
    "import pandas as pd\n",
    "\n",
    "# Read the test sequences file\n",
    "test_sequences = pd.read_csv('/kaggle/input/stanford-rna-3d-folding/test_sequences.csv')\n",
    "\n",
    "# Print the number of rows and columns\n",
    "print(f'There are {test_sequences.shape[0]} rows and {test_sequences.shape[1]} columns.')\n",
    "\n",
    "# Explanation\n",
    "print(\"Reading in the test sequences, we can see we have 12 rows and the same 5 columns found in train & validation sequences.\")\n",
    "test_sequences.head()"
   ]
  },
  {
   "cell_type": "code",
   "execution_count": 24,
   "id": "09696fb4",
   "metadata": {
    "execution": {
     "iopub.execute_input": "2025-04-27T22:56:49.175324Z",
     "iopub.status.busy": "2025-04-27T22:56:49.174934Z",
     "iopub.status.idle": "2025-04-27T22:56:49.190404Z",
     "shell.execute_reply": "2025-04-27T22:56:49.189243Z"
    },
    "lines_to_next_cell": 1,
    "papermill": {
     "duration": 0.047697,
     "end_time": "2025-04-27T22:56:49.192993",
     "exception": false,
     "start_time": "2025-04-27T22:56:49.145296",
     "status": "completed"
    },
    "tags": []
   },
   "outputs": [
    {
     "name": "stdout",
     "output_type": "stream",
     "text": [
      "Total length of sequences in test_sequences is 2515.\n",
      "Now, we need to create the df to house our submission.\n"
     ]
    }
   ],
   "source": [
    "# Import necessary libraries\n",
    "import pandas as pd\n",
    "\n",
    "# Read the test sequences file\n",
    "test_sequences = pd.read_csv('/kaggle/input/stanford-rna-3d-folding/test_sequences.csv')\n",
    "\n",
    "# Calculate the total length of all sequences\n",
    "total_length = test_sequences['sequence'].str.len().sum()\n",
    "\n",
    "print(f'Total length of sequences in test_sequences is {total_length}.')\n",
    "\n",
    "# Create a DataFrame to store submission data\n",
    "submission_df = pd.DataFrame(columns=['target_id', 'resname', 'resid', 'x', 'y', 'z'])  # Define columns as needed\n",
    "\n",
    "# Explanation\n",
    "print(\"Now, we need to create the df to house our submission.\")"
   ]
  },
  {
   "cell_type": "code",
   "execution_count": 25,
   "id": "f0f51668",
   "metadata": {
    "execution": {
     "iopub.execute_input": "2025-04-27T22:56:49.242248Z",
     "iopub.status.busy": "2025-04-27T22:56:49.241876Z",
     "iopub.status.idle": "2025-04-27T22:56:49.274199Z",
     "shell.execute_reply": "2025-04-27T22:56:49.272779Z"
    },
    "papermill": {
     "duration": 0.054122,
     "end_time": "2025-04-27T22:56:49.276599",
     "exception": false,
     "start_time": "2025-04-27T22:56:49.222477",
     "status": "completed"
    },
    "tags": []
   },
   "outputs": [
    {
     "name": "stdout",
     "output_type": "stream",
     "text": [
      "There are 2515 rows in the test_clean df.\n",
      "      ID resname resid\n",
      "0  R1107       G     1\n",
      "1  R1107       G     2\n",
      "2  R1107       G     3\n",
      "3  R1107       G     4\n",
      "4  R1107       G     5\n"
     ]
    }
   ],
   "source": [
    "# This function will accept a test_sequence ID & sequence and return df in format of submission (one resid/resname per row in sequence)\n",
    "def parse_target(tmp_ID, tmp_sequence):\n",
    "    seq_length = len(tmp_sequence)\n",
    "    tmp_df = pd.DataFrame(columns=['ID', 'resname', 'resid'], index=range(seq_length))\n",
    "    tmp_df['resname'] = list(tmp_sequence)\n",
    "    tmp_df['ID'] = tmp_ID\n",
    "    tmp_df['resid'] = range(1, seq_length + 1)\n",
    "    return tmp_df\n",
    "\n",
    "# Create the test_clean df in the format of the submission\n",
    "test_id_seq = test_sequences[['target_id', 'sequence']]\n",
    "test_clean = pd.DataFrame(columns=['ID', 'resname', 'resid'])\n",
    "\n",
    "# For each target_id / sequence, apply the function and append to previous results\n",
    "for index, row in test_id_seq.iterrows():\n",
    "    tmp_df = parse_target(row['target_id'], row['sequence'])\n",
    "    test_clean = pd.concat([test_clean, tmp_df], ignore_index=True)\n",
    "\n",
    "print(f'There are {test_clean.shape[0]} rows in the test_clean df.')\n",
    "print(test_clean.head())\n",
    "\n",
    "# That works...now let's get back to the training data, add some features, & train a model."
   ]
  },
  {
   "cell_type": "markdown",
   "id": "f6ce89de",
   "metadata": {
    "papermill": {
     "duration": 0.023186,
     "end_time": "2025-04-27T22:56:49.323617",
     "exception": false,
     "start_time": "2025-04-27T22:56:49.300431",
     "status": "completed"
    },
    "tags": []
   },
   "source": [
    "# 🎯 Model Training"
   ]
  },
  {
   "cell_type": "code",
   "execution_count": 26,
   "id": "cc7397a3",
   "metadata": {
    "execution": {
     "iopub.execute_input": "2025-04-27T22:56:49.362803Z",
     "iopub.status.busy": "2025-04-27T22:56:49.362335Z",
     "iopub.status.idle": "2025-04-27T22:57:07.290675Z",
     "shell.execute_reply": "2025-04-27T22:57:07.289694Z"
    },
    "papermill": {
     "duration": 17.949896,
     "end_time": "2025-04-27T22:57:07.292238",
     "exception": false,
     "start_time": "2025-04-27T22:56:49.342342",
     "status": "completed"
    },
    "tags": []
   },
   "outputs": [
    {
     "name": "stdout",
     "output_type": "stream",
     "text": [
      "There are 0 NA's in the dataset!\n"
     ]
    }
   ],
   "source": [
    "def feat_eng(df):\n",
    "    df = df.copy() # To avoid modifying the original df\n",
    "    df['seq_length'] = df['sequence'].str.len()\n",
    "    df['A_cnt'] = df['sequence'].str.count('A')\n",
    "    df['C_cnt'] = df['sequence'].str.count('C')\n",
    "    df['U_cnt'] = df['sequence'].str.count('U')\n",
    "    df['G_cnt'] = df['sequence'].str.count('G')\n",
    "    df['AC_cnt'] = df['sequence'].str.count('AC')\n",
    "    df['AU_cnt'] = df['sequence'].str.count('AU')\n",
    "    df['AG_cnt'] = df['sequence'].str.count('AG')\n",
    "    df['CA_cnt'] = df['sequence'].str.count('CA')\n",
    "    df['CU_cnt'] = df['sequence'].str.count('CU')\n",
    "    df['CG_cnt'] = df['sequence'].str.count('CG')\n",
    "    df['UA_cnt'] = df['sequence'].str.count('UA')\n",
    "    df['UC_cnt'] = df['sequence'].str.count('UC')\n",
    "    df['UG_cnt'] = df['sequence'].str.count('UG')\n",
    "    df['GA_cnt'] = df['sequence'].str.count('GA')\n",
    "    df['GC_cnt'] = df['sequence'].str.count('GC')\n",
    "    df['GU_cnt'] = df['sequence'].str.count('GU')\n",
    "    df['AA_cnt'] = df['sequence'].str.count('AA')\n",
    "    df['CC_cnt'] = df['sequence'].str.count('CC')\n",
    "    df['UU_cnt'] = df['sequence'].str.count('UU')\n",
    "    df['GG_cnt'] = df['sequence'].str.count('GG')\n",
    "    df['begin_seq'] = df['sequence'].str[0]\n",
    "    df['end_seq'] = df['sequence'].str[-1]\n",
    "    df = df.drop(columns=['sequence', 'temporal_cutoff', 'description', 'all_sequences'])\n",
    "    return df\n",
    "\n",
    "train_sequences_fe = feat_eng(train_sequences.copy()) # Apply feature engineering\n",
    "\n",
    "# Create the target_id from ID to facilitate joining with the meta_train data we just created\n",
    "train_labels_target_id = train_labels.copy()\n",
    "\n",
    "def split_id(id_str):\n",
    "    parts = id_str.split('_')\n",
    "    if len(parts) == 2:\n",
    "        return pd.Series(parts)\n",
    "    else:\n",
    "        return pd.Series([parts[0], 'A']) # Default chain ID 'A' if split is not 2 parts\n",
    "\n",
    "split_df = train_labels_target_id['ID'].apply(split_id)\n",
    "train_labels_target_id['pdb_id'] = split_df[0]\n",
    "train_labels_target_id['chain_id_temp'] = split_df[1]\n",
    "\n",
    "\n",
    "train_labels_target_id['target_id'] = train_labels_target_id['pdb_id'] + '_' + train_labels_target_id['chain_id_temp'].astype(str) # reconstruct target_id\n",
    "train_labels_target_id = train_labels_target_id.drop(columns=['pdb_id','chain_id_temp'])\n",
    "\n",
    "# Create the final df to train\n",
    "train_data_clean = pd.merge(train_labels_target_id, train_sequences_fe, on=\"target_id\", how=\"left\")\n",
    "\n",
    "# For now, we will impute the missing x_1,y_1,z_1 values with the group average for that target_id, resname\n",
    "train_data_clean[['x_1', 'y_1', 'z_1']] = train_data_clean.groupby(['target_id', 'resname'])[['x_1', 'y_1', 'z_1']].transform(lambda x: x.fillna(x.mean()))\n",
    "\n",
    "# The above imputation for train_data_clean doesn't take care of all NAs...so for now we will remove them(~ 1979 rows)\n",
    "train_data_clean = train_data_clean.dropna()\n",
    "print(f\"There are {train_data_clean.isna().sum().sum()} NA's in the dataset!\")"
   ]
  },
  {
   "cell_type": "code",
   "execution_count": 27,
   "id": "e7bce30a",
   "metadata": {
    "execution": {
     "iopub.execute_input": "2025-04-27T22:57:07.331254Z",
     "iopub.status.busy": "2025-04-27T22:57:07.330906Z",
     "iopub.status.idle": "2025-04-27T22:57:07.339391Z",
     "shell.execute_reply": "2025-04-27T22:57:07.338566Z"
    },
    "papermill": {
     "duration": 0.030462,
     "end_time": "2025-04-27T22:57:07.341027",
     "exception": false,
     "start_time": "2025-04-27T22:57:07.310565",
     "status": "completed"
    },
    "tags": []
   },
   "outputs": [],
   "source": [
    "features = train_data_clean.drop(columns=['x_1','y_1','z_1', 'ID', 'target_id']).columns.tolist()"
   ]
  },
  {
   "cell_type": "code",
   "execution_count": 28,
   "id": "dc73e33a",
   "metadata": {
    "execution": {
     "iopub.execute_input": "2025-04-27T22:57:07.382014Z",
     "iopub.status.busy": "2025-04-27T22:57:07.381699Z",
     "iopub.status.idle": "2025-04-27T22:57:07.390076Z",
     "shell.execute_reply": "2025-04-27T22:57:07.389149Z"
    },
    "papermill": {
     "duration": 0.030524,
     "end_time": "2025-04-27T22:57:07.391596",
     "exception": false,
     "start_time": "2025-04-27T22:57:07.361072",
     "status": "completed"
    },
    "tags": []
   },
   "outputs": [],
   "source": [
    "features = train_data_clean.drop(columns=['x_1','y_1','z_1', 'ID', 'target_id']).columns.tolist()"
   ]
  },
  {
   "cell_type": "markdown",
   "id": "756ccf19",
   "metadata": {
    "papermill": {
     "duration": 0.017921,
     "end_time": "2025-04-27T22:57:07.427609",
     "exception": false,
     "start_time": "2025-04-27T22:57:07.409688",
     "status": "completed"
    },
    "tags": []
   },
   "source": [
    "### For now, our model approach will consist of 3 separate models for x,y,z values"
   ]
  },
  {
   "cell_type": "code",
   "execution_count": 29,
   "id": "8e659998",
   "metadata": {
    "execution": {
     "iopub.execute_input": "2025-04-27T22:57:07.464759Z",
     "iopub.status.busy": "2025-04-27T22:57:07.464328Z",
     "iopub.status.idle": "2025-04-27T23:06:17.042747Z",
     "shell.execute_reply": "2025-04-27T23:06:17.041585Z"
    },
    "papermill": {
     "duration": 549.598847,
     "end_time": "2025-04-27T23:06:17.044363",
     "exception": false,
     "start_time": "2025-04-27T22:57:07.445516",
     "status": "completed"
    },
    "tags": []
   },
   "outputs": [
    {
     "name": "stdout",
     "output_type": "stream",
     "text": [
      "Parse progress: |████████████████████████████████████████████████████████████████| (done) 100%\n",
      "xgboost Model Build progress: |"
     ]
    },
    {
     "name": "stderr",
     "output_type": "stream",
     "text": [
      "/usr/local/lib/python3.10/dist-packages/h2o/estimators/estimator_base.py:192: RuntimeWarning: Dropping bad and constant columns: [chain_id]\n",
      "  warnings.warn(mesg[\"message\"], RuntimeWarning)\n"
     ]
    },
    {
     "name": "stdout",
     "output_type": "stream",
     "text": [
      "██████████████████████████████████████████████████| (done) 100%\n",
      "{'train': 87.32498381074666, 'valid': 254.15439888113858}\n",
      "Parse progress: |████████████████████████████████████████████████████████████████| (done) 100%\n",
      "xgboost Model Build progress: |"
     ]
    },
    {
     "name": "stderr",
     "output_type": "stream",
     "text": [
      "/usr/local/lib/python3.10/dist-packages/h2o/estimators/estimator_base.py:192: RuntimeWarning: Dropping bad and constant columns: [chain_id]\n",
      "  warnings.warn(mesg[\"message\"], RuntimeWarning)\n"
     ]
    },
    {
     "name": "stdout",
     "output_type": "stream",
     "text": [
      "██████████████████████████████████████████████████| (done) 100%\n",
      "{'train': 85.81456354170068, 'valid': 218.77490256595073}\n",
      "Parse progress: |████████████████████████████████████████████████████████████████| (done) 100%\n",
      "xgboost Model Build progress: |"
     ]
    },
    {
     "name": "stderr",
     "output_type": "stream",
     "text": [
      "/usr/local/lib/python3.10/dist-packages/h2o/estimators/estimator_base.py:192: RuntimeWarning: Dropping bad and constant columns: [chain_id]\n",
      "  warnings.warn(mesg[\"message\"], RuntimeWarning)\n"
     ]
    },
    {
     "name": "stdout",
     "output_type": "stream",
     "text": [
      "██████████████████████████████████████████████████| (done) 100%\n",
      "{'train': 109.39861865539727, 'valid': 207.86824827062622}\n"
     ]
    }
   ],
   "source": [
    "train_hframe_x = h2o.H2OFrame(train_data_clean.drop(columns=['ID','y_1','z_1'])) # will need to separate out x_1,y_1,z_1 & ID for each iteration\n",
    "train_hframe_x['resname'] = train_hframe_x['resname'].asfactor()\n",
    "train_hframe_x['begin_seq'] = train_hframe_x['begin_seq'].asfactor()\n",
    "train_hframe_x['end_seq'] = train_hframe_x['end_seq'].asfactor()\n",
    "\n",
    "# split the data into training and validation sets:\n",
    "splits_x = train_hframe_x.split_frame(ratios=[0.8], seed=1)\n",
    "train_x = splits_x[0]\n",
    "valid_x = splits_x[1]\n",
    "\n",
    "xgb_x = h2o.estimators.H2OXGBoostEstimator(\n",
    "    nfolds = 5,\n",
    "    seed = 1,\n",
    "    booster = 'gbtree',\n",
    "    ntrees=200,\n",
    "    max_depth=15,\n",
    "    keep_cross_validation_predictions = True\n",
    ")\n",
    "\n",
    "xgb_x.train(x = features,\n",
    "            y = 'x_1',\n",
    "            training_frame = train_x, # Corrected to use train_x and valid_x\n",
    "            validation_frame = valid_x)\n",
    "\n",
    "print(xgb_x.mse(train=True, valid=True))\n",
    "\n",
    "# Train model for Y\n",
    "train_hframe_y = h2o.H2OFrame(train_data_clean.drop(columns=['ID','x_1','z_1'])) # will need to separate out x_1,y_1,z_1 & ID for each iteration\n",
    "train_hframe_y['resname'] = train_hframe_y['resname'].asfactor()\n",
    "train_hframe_y['begin_seq'] = train_hframe_y['begin_seq'].asfactor()\n",
    "train_hframe_y['end_seq'] = train_hframe_y['end_seq'].asfactor()\n",
    "\n",
    "# split the data into training and validation sets:\n",
    "splits_y = train_hframe_y.split_frame(ratios=[0.8], seed=1)\n",
    "train_y = splits_y[0]\n",
    "valid_y = splits_y[1]\n",
    "\n",
    "xgb_y = h2o.estimators.H2OXGBoostEstimator(\n",
    "    nfolds = 10,\n",
    "    seed = 1,\n",
    "    booster = 'gbtree',\n",
    "    ntrees=200,\n",
    "    max_depth=15,\n",
    "    keep_cross_validation_predictions = True\n",
    ")\n",
    "\n",
    "xgb_y.train(x = features,\n",
    "            y = 'y_1',\n",
    "            training_frame = train_y, # Corrected to use train_y and valid_y\n",
    "            validation_frame = valid_y)\n",
    "\n",
    "print(xgb_y.mse(train=True, valid=True))\n",
    "\n",
    "# Train model for Z\n",
    "train_hframe_z = h2o.H2OFrame(train_data_clean.drop(columns=['ID','y_1','x_1'])) # will need to separate out x_1,y_1,z_1 & ID for each iteration\n",
    "train_hframe_z['resname'] = train_hframe_z['resname'].asfactor()\n",
    "train_hframe_z['begin_seq'] = train_hframe_z['begin_seq'].asfactor()\n",
    "train_hframe_z['end_seq'] = train_hframe_z['end_seq'].asfactor()\n",
    "# split the data into training and validation sets:\n",
    "splits_z = train_hframe_z.split_frame(ratios=[0.8], seed=1)\n",
    "train_z = splits_z[0]\n",
    "valid_z = splits_z[1]\n",
    "\n",
    "xgb_z = h2o.estimators.H2OXGBoostEstimator(\n",
    "    nfolds = 5,\n",
    "    seed = 1,\n",
    "    booster = 'gbtree',\n",
    "    ntrees=200,\n",
    "    max_depth=15,\n",
    "    keep_cross_validation_predictions = True\n",
    ")\n",
    "\n",
    "xgb_z.train(x = features,\n",
    "            y = 'z_1',\n",
    "            training_frame = train_z, # Corrected to use train_z and valid_z\n",
    "            validation_frame = valid_z)\n",
    "\n",
    "print(xgb_z.mse(train=True, valid=True))"
   ]
  },
  {
   "cell_type": "code",
   "execution_count": 30,
   "id": "491acae5",
   "metadata": {
    "execution": {
     "iopub.execute_input": "2025-04-27T23:06:17.098408Z",
     "iopub.status.busy": "2025-04-27T23:06:17.098067Z",
     "iopub.status.idle": "2025-04-27T23:06:17.126305Z",
     "shell.execute_reply": "2025-04-27T23:06:17.125478Z"
    },
    "papermill": {
     "duration": 0.057082,
     "end_time": "2025-04-27T23:06:17.127932",
     "exception": false,
     "start_time": "2025-04-27T23:06:17.070850",
     "status": "completed"
    },
    "tags": []
   },
   "outputs": [],
   "source": [
    "# Create features on test sequence\n",
    "test_sequences_fe = feat_eng(test_sequences.copy())\n",
    "\n",
    "# Merge test_clean we created earlier with test_sequences\n",
    "test_data_clean = pd.merge(test_clean, test_sequences_fe, left_on=\"ID\", right_on=\"target_id\", how=\"left\")\n",
    "test_data_clean['resname'] = test_data_clean['resname'].astype('category') # Convert to category for h2o\n",
    "test_data_clean['begin_seq'] = test_data_clean['begin_seq'].astype('category')\n",
    "test_data_clean['end_seq'] = test_data_clean['end_seq'].astype('category')"
   ]
  },
  {
   "cell_type": "code",
   "execution_count": 31,
   "id": "9b5b1be2",
   "metadata": {
    "execution": {
     "iopub.execute_input": "2025-04-27T23:06:17.183143Z",
     "iopub.status.busy": "2025-04-27T23:06:17.182816Z",
     "iopub.status.idle": "2025-04-27T23:06:18.650671Z",
     "shell.execute_reply": "2025-04-27T23:06:18.649538Z"
    },
    "papermill": {
     "duration": 1.496325,
     "end_time": "2025-04-27T23:06:18.652308",
     "exception": false,
     "start_time": "2025-04-27T23:06:17.155983",
     "status": "completed"
    },
    "tags": []
   },
   "outputs": [
    {
     "name": "stdout",
     "output_type": "stream",
     "text": [
      "Parse progress: |████████████████████████████████████████████████████████████████| (done) 100%\n",
      "xgboost prediction progress: |███████████████████████████████████████████████████| (done) 100%\n",
      "Parse progress: |"
     ]
    },
    {
     "name": "stderr",
     "output_type": "stream",
     "text": [
      "/usr/local/lib/python3.10/dist-packages/h2o/job.py:81: UserWarning: Test/Validation dataset is missing column 'pdb_id': substituting in a column of NaN\n",
      "  warnings.warn(w)\n",
      "/usr/local/lib/python3.10/dist-packages/h2o/job.py:81: UserWarning: Test/Validation dataset is missing column 'length': substituting in a column of NaN\n",
      "  warnings.warn(w)\n",
      "/usr/local/lib/python3.10/dist-packages/h2o/job.py:81: UserWarning: Test/Validation dataset is missing column 'cutoff_year': substituting in a column of NaN\n",
      "  warnings.warn(w)\n",
      "/usr/local/lib/python3.10/dist-packages/h2o/job.py:81: UserWarning: Test/Validation dataset is missing column 'sequence_length': substituting in a column of NaN\n",
      "  warnings.warn(w)\n"
     ]
    },
    {
     "name": "stdout",
     "output_type": "stream",
     "text": [
      "████████████████████████████████████████████████████████████████| (done) 100%\n",
      "xgboost prediction progress: |███████████████████████████████████████████████████| (done) 100%\n",
      "Parse progress: |"
     ]
    },
    {
     "name": "stderr",
     "output_type": "stream",
     "text": [
      "/usr/local/lib/python3.10/dist-packages/h2o/job.py:81: UserWarning: Test/Validation dataset is missing column 'pdb_id': substituting in a column of NaN\n",
      "  warnings.warn(w)\n",
      "/usr/local/lib/python3.10/dist-packages/h2o/job.py:81: UserWarning: Test/Validation dataset is missing column 'length': substituting in a column of NaN\n",
      "  warnings.warn(w)\n",
      "/usr/local/lib/python3.10/dist-packages/h2o/job.py:81: UserWarning: Test/Validation dataset is missing column 'cutoff_year': substituting in a column of NaN\n",
      "  warnings.warn(w)\n",
      "/usr/local/lib/python3.10/dist-packages/h2o/job.py:81: UserWarning: Test/Validation dataset is missing column 'sequence_length': substituting in a column of NaN\n",
      "  warnings.warn(w)\n"
     ]
    },
    {
     "name": "stdout",
     "output_type": "stream",
     "text": [
      "████████████████████████████████████████████████████████████████| (done) 100%\n",
      "xgboost prediction progress: |███████████████████████████████████████████████████| (done) 100%\n"
     ]
    },
    {
     "name": "stderr",
     "output_type": "stream",
     "text": [
      "/usr/local/lib/python3.10/dist-packages/h2o/job.py:81: UserWarning: Test/Validation dataset is missing column 'pdb_id': substituting in a column of NaN\n",
      "  warnings.warn(w)\n",
      "/usr/local/lib/python3.10/dist-packages/h2o/job.py:81: UserWarning: Test/Validation dataset is missing column 'length': substituting in a column of NaN\n",
      "  warnings.warn(w)\n",
      "/usr/local/lib/python3.10/dist-packages/h2o/job.py:81: UserWarning: Test/Validation dataset is missing column 'cutoff_year': substituting in a column of NaN\n",
      "  warnings.warn(w)\n",
      "/usr/local/lib/python3.10/dist-packages/h2o/job.py:81: UserWarning: Test/Validation dataset is missing column 'sequence_length': substituting in a column of NaN\n",
      "  warnings.warn(w)\n"
     ]
    }
   ],
   "source": [
    "preds_x = xgb_x.predict(h2o.H2OFrame(test_data_clean.drop(columns=['ID', 'target_id'])))\n",
    "preds_y = xgb_y.predict(h2o.H2OFrame(test_data_clean.drop(columns=['ID', 'target_id'])))\n",
    "preds_z = xgb_z.predict(h2o.H2OFrame(test_data_clean.drop(columns=['ID', 'target_id'])))"
   ]
  },
  {
   "cell_type": "markdown",
   "id": "328a1709",
   "metadata": {
    "papermill": {
     "duration": 0.026928,
     "end_time": "2025-04-27T23:06:18.707106",
     "exception": false,
     "start_time": "2025-04-27T23:06:18.680178",
     "status": "completed"
    },
    "tags": []
   },
   "source": [
    "# 🤞 Submission"
   ]
  },
  {
   "cell_type": "markdown",
   "id": "72d3ef78",
   "metadata": {
    "papermill": {
     "duration": 0.026649,
     "end_time": "2025-04-27T23:06:18.760935",
     "exception": false,
     "start_time": "2025-04-27T23:06:18.734286",
     "status": "completed"
    },
    "tags": []
   },
   "source": [
    "### For now, we will use the same predictions for all x,y,z combinations.  Future version will incorporate different methods for these predictions."
   ]
  },
  {
   "cell_type": "code",
   "execution_count": 32,
   "id": "edb6be8e",
   "metadata": {
    "execution": {
     "iopub.execute_input": "2025-04-27T23:06:18.816000Z",
     "iopub.status.busy": "2025-04-27T23:06:18.815687Z",
     "iopub.status.idle": "2025-04-27T23:06:18.993450Z",
     "shell.execute_reply": "2025-04-27T23:06:18.992327Z"
    },
    "lines_to_next_cell": 2,
    "papermill": {
     "duration": 0.207928,
     "end_time": "2025-04-27T23:06:18.995459",
     "exception": false,
     "start_time": "2025-04-27T23:06:18.787531",
     "status": "completed"
    },
    "tags": []
   },
   "outputs": [
    {
     "name": "stderr",
     "output_type": "stream",
     "text": [
      "/usr/local/lib/python3.10/dist-packages/h2o/frame.py:1983: H2ODependencyWarning: Converting H2O frame to pandas dataframe using single-thread.  For faster conversion using multi-thread, install polars and pyarrow and use it as pandas_df = h2o_df.as_data_frame(use_multi_thread=True)\n",
      "\n",
      "  warnings.warn(\"Converting H2O frame to pandas dataframe using single-thread.  For faster conversion using\"\n",
      "/usr/local/lib/python3.10/dist-packages/h2o/frame.py:1983: H2ODependencyWarning: Converting H2O frame to pandas dataframe using single-thread.  For faster conversion using multi-thread, install polars and pyarrow and use it as pandas_df = h2o_df.as_data_frame(use_multi_thread=True)\n",
      "\n",
      "  warnings.warn(\"Converting H2O frame to pandas dataframe using single-thread.  For faster conversion using\"\n",
      "/usr/local/lib/python3.10/dist-packages/h2o/frame.py:1983: H2ODependencyWarning: Converting H2O frame to pandas dataframe using single-thread.  For faster conversion using multi-thread, install polars and pyarrow and use it as pandas_df = h2o_df.as_data_frame(use_multi_thread=True)\n",
      "\n",
      "  warnings.warn(\"Converting H2O frame to pandas dataframe using single-thread.  For faster conversion using\"\n",
      "/usr/local/lib/python3.10/dist-packages/h2o/frame.py:1983: H2ODependencyWarning: Converting H2O frame to pandas dataframe using single-thread.  For faster conversion using multi-thread, install polars and pyarrow and use it as pandas_df = h2o_df.as_data_frame(use_multi_thread=True)\n",
      "\n",
      "  warnings.warn(\"Converting H2O frame to pandas dataframe using single-thread.  For faster conversion using\"\n",
      "/usr/local/lib/python3.10/dist-packages/h2o/frame.py:1983: H2ODependencyWarning: Converting H2O frame to pandas dataframe using single-thread.  For faster conversion using multi-thread, install polars and pyarrow and use it as pandas_df = h2o_df.as_data_frame(use_multi_thread=True)\n",
      "\n",
      "  warnings.warn(\"Converting H2O frame to pandas dataframe using single-thread.  For faster conversion using\"\n",
      "/usr/local/lib/python3.10/dist-packages/h2o/frame.py:1983: H2ODependencyWarning: Converting H2O frame to pandas dataframe using single-thread.  For faster conversion using multi-thread, install polars and pyarrow and use it as pandas_df = h2o_df.as_data_frame(use_multi_thread=True)\n",
      "\n",
      "  warnings.warn(\"Converting H2O frame to pandas dataframe using single-thread.  For faster conversion using\"\n",
      "/usr/local/lib/python3.10/dist-packages/h2o/frame.py:1983: H2ODependencyWarning: Converting H2O frame to pandas dataframe using single-thread.  For faster conversion using multi-thread, install polars and pyarrow and use it as pandas_df = h2o_df.as_data_frame(use_multi_thread=True)\n",
      "\n",
      "  warnings.warn(\"Converting H2O frame to pandas dataframe using single-thread.  For faster conversion using\"\n",
      "/usr/local/lib/python3.10/dist-packages/h2o/frame.py:1983: H2ODependencyWarning: Converting H2O frame to pandas dataframe using single-thread.  For faster conversion using multi-thread, install polars and pyarrow and use it as pandas_df = h2o_df.as_data_frame(use_multi_thread=True)\n",
      "\n",
      "  warnings.warn(\"Converting H2O frame to pandas dataframe using single-thread.  For faster conversion using\"\n",
      "/usr/local/lib/python3.10/dist-packages/h2o/frame.py:1983: H2ODependencyWarning: Converting H2O frame to pandas dataframe using single-thread.  For faster conversion using multi-thread, install polars and pyarrow and use it as pandas_df = h2o_df.as_data_frame(use_multi_thread=True)\n",
      "\n",
      "  warnings.warn(\"Converting H2O frame to pandas dataframe using single-thread.  For faster conversion using\"\n",
      "/usr/local/lib/python3.10/dist-packages/h2o/frame.py:1983: H2ODependencyWarning: Converting H2O frame to pandas dataframe using single-thread.  For faster conversion using multi-thread, install polars and pyarrow and use it as pandas_df = h2o_df.as_data_frame(use_multi_thread=True)\n",
      "\n",
      "  warnings.warn(\"Converting H2O frame to pandas dataframe using single-thread.  For faster conversion using\"\n",
      "/usr/local/lib/python3.10/dist-packages/h2o/frame.py:1983: H2ODependencyWarning: Converting H2O frame to pandas dataframe using single-thread.  For faster conversion using multi-thread, install polars and pyarrow and use it as pandas_df = h2o_df.as_data_frame(use_multi_thread=True)\n",
      "\n",
      "  warnings.warn(\"Converting H2O frame to pandas dataframe using single-thread.  For faster conversion using\"\n",
      "/usr/local/lib/python3.10/dist-packages/h2o/frame.py:1983: H2ODependencyWarning: Converting H2O frame to pandas dataframe using single-thread.  For faster conversion using multi-thread, install polars and pyarrow and use it as pandas_df = h2o_df.as_data_frame(use_multi_thread=True)\n",
      "\n",
      "  warnings.warn(\"Converting H2O frame to pandas dataframe using single-thread.  For faster conversion using\"\n",
      "/usr/local/lib/python3.10/dist-packages/h2o/frame.py:1983: H2ODependencyWarning: Converting H2O frame to pandas dataframe using single-thread.  For faster conversion using multi-thread, install polars and pyarrow and use it as pandas_df = h2o_df.as_data_frame(use_multi_thread=True)\n",
      "\n",
      "  warnings.warn(\"Converting H2O frame to pandas dataframe using single-thread.  For faster conversion using\"\n",
      "/usr/local/lib/python3.10/dist-packages/h2o/frame.py:1983: H2ODependencyWarning: Converting H2O frame to pandas dataframe using single-thread.  For faster conversion using multi-thread, install polars and pyarrow and use it as pandas_df = h2o_df.as_data_frame(use_multi_thread=True)\n",
      "\n",
      "  warnings.warn(\"Converting H2O frame to pandas dataframe using single-thread.  For faster conversion using\"\n",
      "/usr/local/lib/python3.10/dist-packages/h2o/frame.py:1983: H2ODependencyWarning: Converting H2O frame to pandas dataframe using single-thread.  For faster conversion using multi-thread, install polars and pyarrow and use it as pandas_df = h2o_df.as_data_frame(use_multi_thread=True)\n",
      "\n",
      "  warnings.warn(\"Converting H2O frame to pandas dataframe using single-thread.  For faster conversion using\"\n"
     ]
    }
   ],
   "source": [
    "submission = pd.DataFrame({\n",
    "    'ID': test_data_clean['ID'],\n",
    "    'resname': test_data_clean['resname'],\n",
    "    'resid': test_data_clean['resid']\n",
    "})\n",
    "\n",
    "submission = pd.concat([\n",
    "    submission,\n",
    "    preds_x.as_data_frame(),\n",
    "    preds_y.as_data_frame(),\n",
    "    preds_z.as_data_frame(),\n",
    "\n",
    "    preds_x.as_data_frame(),\n",
    "    preds_y.as_data_frame(),\n",
    "    preds_z.as_data_frame(),\n",
    "\n",
    "    preds_x.as_data_frame(),\n",
    "    preds_y.as_data_frame(),\n",
    "    preds_z.as_data_frame(),\n",
    "\n",
    "    preds_x.as_data_frame(),\n",
    "    preds_y.as_data_frame(),\n",
    "    preds_z.as_data_frame(),\n",
    "\n",
    "    preds_x.as_data_frame(),\n",
    "    preds_y.as_data_frame(),\n",
    "    preds_z.as_data_frame()\n",
    "], axis=1)\n",
    "\n",
    "submission.columns = sample_submission.columns.tolist()"
   ]
  },
  {
   "cell_type": "markdown",
   "id": "17bbeeef",
   "metadata": {
    "papermill": {
     "duration": 0.027465,
     "end_time": "2025-04-27T23:06:19.051792",
     "exception": false,
     "start_time": "2025-04-27T23:06:19.024327",
     "status": "completed"
    },
    "tags": []
   },
   "source": [
    "### My first two submissions in R errored at the scoring phase.  This was due to the ID columns not being in the same order as the sample_submission, so we will create a simple sort column based off the sample_submission, and apply that to our submission df."
   ]
  },
  {
   "cell_type": "code",
   "execution_count": 33,
   "id": "a98eb5a7",
   "metadata": {
    "execution": {
     "iopub.execute_input": "2025-04-27T23:06:19.106371Z",
     "iopub.status.busy": "2025-04-27T23:06:19.105974Z",
     "iopub.status.idle": "2025-04-27T23:06:19.120008Z",
     "shell.execute_reply": "2025-04-27T23:06:19.119205Z"
    },
    "papermill": {
     "duration": 0.043689,
     "end_time": "2025-04-27T23:06:19.121893",
     "exception": false,
     "start_time": "2025-04-27T23:06:19.078204",
     "status": "completed"
    },
    "tags": []
   },
   "outputs": [],
   "source": [
    "# Update ID to match submission ID column\n",
    "submission['ID'] = submission['ID'] + '_' + submission['resid'].astype(str)\n",
    "\n",
    "# Create a sort_order column within the sample_submission so we can apply it to our submission\n",
    "sample_submission['sort_order'] = range(len(sample_submission))\n",
    "submission = pd.merge(submission, sample_submission[['ID', 'sort_order']], on='ID', how='left').sort_values('sort_order').drop(columns=['sort_order'])"
   ]
  },
  {
   "cell_type": "code",
   "execution_count": 34,
   "id": "b0cefeda",
   "metadata": {
    "execution": {
     "iopub.execute_input": "2025-04-27T23:06:19.177765Z",
     "iopub.status.busy": "2025-04-27T23:06:19.177340Z",
     "iopub.status.idle": "2025-04-27T23:06:19.188857Z",
     "shell.execute_reply": "2025-04-27T23:06:19.187706Z"
    },
    "papermill": {
     "duration": 0.041924,
     "end_time": "2025-04-27T23:06:19.190573",
     "exception": false,
     "start_time": "2025-04-27T23:06:19.148649",
     "status": "completed"
    },
    "tags": []
   },
   "outputs": [
    {
     "name": "stdout",
     "output_type": "stream",
     "text": [
      "        ID resname resid        x_1       y_1         z_1        x_2  \\\n",
      "0  R1107_1       G     1 -11.068602 -0.811335  109.864998 -11.068602   \n",
      "1  R1107_2       G     2 -10.938802 -1.896393  108.835800 -10.938802   \n",
      "2  R1107_3       G     3 -11.626884 -3.290529  107.734756 -11.626884   \n",
      "\n",
      "        y_2         z_2        x_3       y_3         z_3        x_4       y_4  \\\n",
      "0 -0.811335  109.864998 -11.068602 -0.811335  109.864998 -11.068602 -0.811335   \n",
      "1 -1.896393  108.835800 -10.938802 -1.896393  108.835800 -10.938802 -1.896393   \n",
      "2 -3.290529  107.734756 -11.626884 -3.290529  107.734756 -11.626884 -3.290529   \n",
      "\n",
      "          z_4        x_5       y_5         z_5  \n",
      "0  109.864998 -11.068602 -0.811335  109.864998  \n",
      "1  108.835800 -10.938802 -1.896393  108.835800  \n",
      "2  107.734756 -11.626884 -3.290529  107.734756  \n"
     ]
    }
   ],
   "source": [
    "print(submission.head(3))"
   ]
  },
  {
   "cell_type": "code",
   "execution_count": 35,
   "id": "56ea4dc6",
   "metadata": {
    "execution": {
     "iopub.execute_input": "2025-04-27T23:06:19.246954Z",
     "iopub.status.busy": "2025-04-27T23:06:19.246614Z",
     "iopub.status.idle": "2025-04-27T23:06:19.347640Z",
     "shell.execute_reply": "2025-04-27T23:06:19.346691Z"
    },
    "lines_to_next_cell": 3,
    "papermill": {
     "duration": 0.130613,
     "end_time": "2025-04-27T23:06:19.349040",
     "exception": false,
     "start_time": "2025-04-27T23:06:19.218427",
     "status": "completed"
    },
    "tags": []
   },
   "outputs": [
    {
     "name": "stdout",
     "output_type": "stream",
     "text": [
      "H2O session _sid_b738 closed.\n"
     ]
    },
    {
     "name": "stderr",
     "output_type": "stream",
     "text": [
      "<ipython-input-35-6f0af6ca6fa5>:2: H2ODeprecationWarning: Deprecated, use ``h2o.cluster().shutdown()``.\n",
      "  h2o.shutdown()\n"
     ]
    }
   ],
   "source": [
    "submission.to_csv('submission.csv', index=False)\n",
    "h2o.shutdown()"
   ]
  }
 ],
 "metadata": {
  "jupytext": {
   "cell_metadata_filter": "-all",
   "main_language": "python",
   "notebook_metadata_filter": "-all"
  },
  "kaggle": {
   "accelerator": "nvidiaTeslaT4",
   "dataSources": [
    {
     "databundleVersionId": 12024591,
     "sourceId": 87793,
     "sourceType": "competition"
    }
   ],
   "dockerImageVersionId": 30919,
   "isGpuEnabled": true,
   "isInternetEnabled": false,
   "language": "python",
   "sourceType": "notebook"
  },
  "kernelspec": {
   "display_name": "Python 3",
   "language": "python",
   "name": "python3"
  },
  "language_info": {
   "codemirror_mode": {
    "name": "ipython",
    "version": 3
   },
   "file_extension": ".py",
   "mimetype": "text/x-python",
   "name": "python",
   "nbconvert_exporter": "python",
   "pygments_lexer": "ipython3",
   "version": "3.10.12"
  },
  "papermill": {
   "default_parameters": {},
   "duration": 590.103796,
   "end_time": "2025-04-27T23:06:21.001892",
   "environment_variables": {},
   "exception": null,
   "input_path": "__notebook__.ipynb",
   "output_path": "__notebook__.ipynb",
   "parameters": {},
   "start_time": "2025-04-27T22:56:30.898096",
   "version": "2.6.0"
  }
 },
 "nbformat": 4,
 "nbformat_minor": 5
}
